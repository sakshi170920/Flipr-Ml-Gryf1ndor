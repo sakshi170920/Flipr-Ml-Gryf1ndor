{
  "nbformat": 4,
  "nbformat_minor": 0,
  "metadata": {
    "colab": {
      "name": "Flipr S.ipynb",
      "provenance": [],
      "include_colab_link": true
    },
    "kernelspec": {
      "name": "python3",
      "display_name": "Python 3"
    }
  },
  "cells": [
    {
      "cell_type": "markdown",
      "metadata": {
        "id": "view-in-github",
        "colab_type": "text"
      },
      "source": [
        "<a href=\"https://colab.research.google.com/github/sakshi170920/Flipr-Ml-Gryf1ndor/blob/master/Flipr_S.ipynb\" target=\"_parent\"><img src=\"https://colab.research.google.com/assets/colab-badge.svg\" alt=\"Open In Colab\"/></a>"
      ]
    },
    {
      "cell_type": "code",
      "metadata": {
        "id": "K0gbEOnH8s5H"
      },
      "source": [
        "import pandas as pd\n",
        "import numpy as np\n",
        "import math\n",
        "%matplotlib inline\n",
        "import warnings\n",
        "warnings.filterwarnings(\"ignore\")\n",
        "from google.colab import files\n",
        "import seaborn as sns\n",
        "import matplotlib.pyplot as plt\n",
        "from sklearn import preprocessing\n",
        "from sklearn.model_selection import train_test_split \n",
        "from sklearn.ensemble import RandomForestRegressor,  GradientBoostingRegressor\n",
        "from sklearn.pipeline import make_pipeline\n",
        "from sklearn.preprocessing import RobustScaler\n",
        "from sklearn.model_selection import KFold, cross_val_score, train_test_split\n",
        "import xgboost as xgb\n",
        "from sklearn.metrics import mean_squared_error, r2_score\n",
        "from sklearn.preprocessing import PolynomialFeatures\n",
        "from sklearn import metrics\n",
        "from sklearn.inspection import permutation_importance\n"
      ],
      "execution_count": null,
      "outputs": []
    },
    {
      "cell_type": "code",
      "metadata": {
        "id": "1hKCvHUj-MFk",
        "outputId": "244bc13e-70de-4392-d45a-692eb93c8737",
        "colab": {
          "resources": {
            "http://localhost:8080/nbextensions/google.colab/files.js": {
              "data": "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",
              "ok": true,
              "headers": [
                [
                  "content-type",
                  "application/javascript"
                ]
              ],
              "status": 200,
              "status_text": ""
            }
          },
          "base_uri": "https://localhost:8080/",
          "height": 73
        }
      },
      "source": [
        "#upload dataset\n",
        "uploaded = files.upload()"
      ],
      "execution_count": null,
      "outputs": [
        {
          "output_type": "display_data",
          "data": {
            "text/html": [
              "\n",
              "     <input type=\"file\" id=\"files-6ed50170-3e86-4cbc-9648-28224b853aa2\" name=\"files[]\" multiple disabled\n",
              "        style=\"border:none\" />\n",
              "     <output id=\"result-6ed50170-3e86-4cbc-9648-28224b853aa2\">\n",
              "      Upload widget is only available when the cell has been executed in the\n",
              "      current browser session. Please rerun this cell to enable.\n",
              "      </output>\n",
              "      <script src=\"/nbextensions/google.colab/files.js\"></script> "
            ],
            "text/plain": [
              "<IPython.core.display.HTML object>"
            ]
          },
          "metadata": {
            "tags": []
          }
        },
        {
          "output_type": "stream",
          "text": [
            "Saving Train_dataset.xlsx to Train_dataset.xlsx\n"
          ],
          "name": "stdout"
        }
      ]
    },
    {
      "cell_type": "code",
      "metadata": {
        "id": "-OZUh3Ck_JWM",
        "outputId": "31c27360-1b12-40b7-b370-0b0b3688a4f2",
        "colab": {
          "base_uri": "https://localhost:8080/",
          "height": 302
        }
      },
      "source": [
        "#load dataset\n",
        "df = pd.read_excel(\"Train_dataset.xlsx\", sheet_name=0)\n",
        "#missing values\n",
        "df.isnull().sum()"
      ],
      "execution_count": null,
      "outputs": [
        {
          "output_type": "execute_result",
          "data": {
            "text/plain": [
              "City                   0\n",
              "State                  0\n",
              "Type                   0\n",
              "Population [2011]     48\n",
              "Popuation [2001]     492\n",
              "Sex Ratio             10\n",
              "Median Age            18\n",
              "Avg Temp              17\n",
              "SWM                    4\n",
              "Toilets Avl           26\n",
              "Water Purity         158\n",
              "H Index              140\n",
              "Female Population    141\n",
              "# of hospitals        15\n",
              "Foreign Visitors      90\n",
              "Covid Cases            0\n",
              "dtype: int64"
            ]
          },
          "metadata": {
            "tags": []
          },
          "execution_count": 4
        }
      ]
    },
    {
      "cell_type": "code",
      "metadata": {
        "id": "ijkYoP3sHA0A",
        "outputId": "6d1f557b-0bfb-4fd2-b049-72f810f82232",
        "colab": {
          "base_uri": "https://localhost:8080/",
          "height": 118
        }
      },
      "source": [
        "#handling data errors\n",
        "print(df['Type'].unique())\n",
        "df['Type'] = df['Type'].str.replace('.','')\n",
        "print(df['Type'].unique())\n"
      ],
      "execution_count": null,
      "outputs": [
        {
          "output_type": "stream",
          "text": [
            "['M.C' 'MPUA' 'T' 'M' 'C-1T' 'M.Cl' 'M.Corp' 'N.P' 'UA' 'M.B.' 'N.Pd'\n",
            " 'M.Cl.' 'M.B' 'N.P.P' 'CMC' 'C.T' 'C.M.C' 'N.P.' 'Nagar Parishad' 'N.A.C'\n",
            " 'MB' 'M Cl' 'M.Corp.' 'U.A' 'N.P.P.' 'T.C' 'T.M.C' 'N.T' 'C.B' 'NPP'\n",
            " 'T.M.C.' 'NP' 'Np' 'C.T.' 'T.P' 'N.A' 'T.P.']\n",
            "['MC' 'MPUA' 'T' 'M' 'C-1T' 'MCl' 'MCorp' 'NP' 'UA' 'MB' 'NPd' 'NPP' 'CMC'\n",
            " 'CT' 'Nagar Parishad' 'NAC' 'M Cl' 'TC' 'TMC' 'NT' 'CB' 'Np' 'TP' 'NA']\n"
          ],
          "name": "stdout"
        }
      ]
    },
    {
      "cell_type": "code",
      "metadata": {
        "id": "xSQBD-KsCif-",
        "outputId": "6fd45b4e-21dd-43e5-ec61-ecdc78a4e735",
        "colab": {
          "base_uri": "https://localhost:8080/",
          "height": 212
        }
      },
      "source": [
        "df.head()"
      ],
      "execution_count": null,
      "outputs": [
        {
          "output_type": "execute_result",
          "data": {
            "text/html": [
              "<div>\n",
              "<style scoped>\n",
              "    .dataframe tbody tr th:only-of-type {\n",
              "        vertical-align: middle;\n",
              "    }\n",
              "\n",
              "    .dataframe tbody tr th {\n",
              "        vertical-align: top;\n",
              "    }\n",
              "\n",
              "    .dataframe thead th {\n",
              "        text-align: right;\n",
              "    }\n",
              "</style>\n",
              "<table border=\"1\" class=\"dataframe\">\n",
              "  <thead>\n",
              "    <tr style=\"text-align: right;\">\n",
              "      <th></th>\n",
              "      <th>City</th>\n",
              "      <th>State</th>\n",
              "      <th>Type</th>\n",
              "      <th>Population [2011]</th>\n",
              "      <th>Popuation [2001]</th>\n",
              "      <th>Sex Ratio</th>\n",
              "      <th>Median Age</th>\n",
              "      <th>Avg Temp</th>\n",
              "      <th>SWM</th>\n",
              "      <th>Toilets Avl</th>\n",
              "      <th>Water Purity</th>\n",
              "      <th>H Index</th>\n",
              "      <th>Female Population</th>\n",
              "      <th># of hospitals</th>\n",
              "      <th>Foreign Visitors</th>\n",
              "      <th>Covid Cases</th>\n",
              "    </tr>\n",
              "  </thead>\n",
              "  <tbody>\n",
              "    <tr>\n",
              "      <th>0</th>\n",
              "      <td>Mumbai</td>\n",
              "      <td>Maharashtra</td>\n",
              "      <td>M.C</td>\n",
              "      <td>12442373.0</td>\n",
              "      <td>11978450.0</td>\n",
              "      <td>878.0</td>\n",
              "      <td>23.0</td>\n",
              "      <td>32.0</td>\n",
              "      <td>MEDIUM</td>\n",
              "      <td>219.0</td>\n",
              "      <td>150.0</td>\n",
              "      <td>0.700440</td>\n",
              "      <td>10924403.0</td>\n",
              "      <td>159.0</td>\n",
              "      <td>4408916.0</td>\n",
              "      <td>163115</td>\n",
              "    </tr>\n",
              "    <tr>\n",
              "      <th>1</th>\n",
              "      <td>Delhi</td>\n",
              "      <td>Delhi</td>\n",
              "      <td>M.C</td>\n",
              "      <td>11007835.0</td>\n",
              "      <td>9879172.0</td>\n",
              "      <td>858.0</td>\n",
              "      <td>27.0</td>\n",
              "      <td>30.0</td>\n",
              "      <td>MEDIUM</td>\n",
              "      <td>215.0</td>\n",
              "      <td>196.0</td>\n",
              "      <td>0.920018</td>\n",
              "      <td>9444722.0</td>\n",
              "      <td>148.0</td>\n",
              "      <td>2379169.0</td>\n",
              "      <td>80188</td>\n",
              "    </tr>\n",
              "    <tr>\n",
              "      <th>2</th>\n",
              "      <td>Bangalore</td>\n",
              "      <td>Karnataka</td>\n",
              "      <td>MPUA</td>\n",
              "      <td>8436675.0</td>\n",
              "      <td>4301326.0</td>\n",
              "      <td>936.0</td>\n",
              "      <td>28.0</td>\n",
              "      <td>37.0</td>\n",
              "      <td>HIGH</td>\n",
              "      <td>212.0</td>\n",
              "      <td>102.0</td>\n",
              "      <td>0.097085</td>\n",
              "      <td>7896728.0</td>\n",
              "      <td>123.0</td>\n",
              "      <td>636502.0</td>\n",
              "      <td>141000</td>\n",
              "    </tr>\n",
              "    <tr>\n",
              "      <th>3</th>\n",
              "      <td>Hyderabad</td>\n",
              "      <td>Telangana</td>\n",
              "      <td>MPUA</td>\n",
              "      <td>6809970.0</td>\n",
              "      <td>3637483.0</td>\n",
              "      <td>930.0</td>\n",
              "      <td>23.0</td>\n",
              "      <td>31.0</td>\n",
              "      <td>MEDIUM</td>\n",
              "      <td>217.0</td>\n",
              "      <td>118.0</td>\n",
              "      <td>0.827744</td>\n",
              "      <td>6333272.0</td>\n",
              "      <td>110.0</td>\n",
              "      <td>126078.0</td>\n",
              "      <td>55123</td>\n",
              "    </tr>\n",
              "    <tr>\n",
              "      <th>4</th>\n",
              "      <td>Ahmedabad</td>\n",
              "      <td>Gujarat</td>\n",
              "      <td>MPUA</td>\n",
              "      <td>5570585.0</td>\n",
              "      <td>3520085.0</td>\n",
              "      <td>852.0</td>\n",
              "      <td>29.0</td>\n",
              "      <td>25.0</td>\n",
              "      <td>LOW</td>\n",
              "      <td>227.0</td>\n",
              "      <td>109.0</td>\n",
              "      <td>0.847941</td>\n",
              "      <td>4746138.0</td>\n",
              "      <td>73.0</td>\n",
              "      <td>284973.0</td>\n",
              "      <td>33204</td>\n",
              "    </tr>\n",
              "  </tbody>\n",
              "</table>\n",
              "</div>"
            ],
            "text/plain": [
              "        City        State  Type  ...  # of hospitals  Foreign Visitors  Covid Cases\n",
              "0     Mumbai  Maharashtra   M.C  ...           159.0         4408916.0       163115\n",
              "1      Delhi        Delhi   M.C  ...           148.0         2379169.0        80188\n",
              "2  Bangalore    Karnataka  MPUA  ...           123.0          636502.0       141000\n",
              "3  Hyderabad    Telangana  MPUA  ...           110.0          126078.0        55123\n",
              "4  Ahmedabad      Gujarat  MPUA  ...            73.0          284973.0        33204\n",
              "\n",
              "[5 rows x 16 columns]"
            ]
          },
          "metadata": {
            "tags": []
          },
          "execution_count": 5
        }
      ]
    },
    {
      "cell_type": "markdown",
      "metadata": {
        "id": "GXEjHIj7_sy7"
      },
      "source": [
        "# Handling Missing values "
      ]
    },
    {
      "cell_type": "code",
      "metadata": {
        "id": "qzH1khJJ_amo"
      },
      "source": [
        "l_population2011=[]\n",
        "\n",
        "#filing missing values of population by sex ratio and female population\n",
        "for i in range(len(df.values)):\n",
        "  if(math.isnan(df['Population [2011]'][i]) and (not math.isnan(df['Female Population'][i])) and (not math.isnan(df['Sex Ratio'][i]))):\n",
        "    df['Population [2011]'][i]=(df['Female Population'][i]/(1000*df['Sex Ratio'][i]))+df['Female Population'][i]\n",
        "    # print(\"hello\")\n",
        "  if((not math.isnan(df['Population [2011]'][i])) and ( math.isnan(df['Female Population'][i])) and (not math.isnan(df['Sex Ratio'][i]))):\n",
        "    df['Female Population'][i]=df['Population [2011]'][i]*(1000*df['Sex Ratio'][i])/(1+(1000*df['Sex Ratio'][i]))\n",
        "  \n",
        "  if((not math.isnan(df['Population [2011]'][i])) and ( not math.isnan(df['Female Population'][i])) and ( math.isnan(df['Sex Ratio'][i]))):\n",
        "    df['Sex Ratio'][i]=df['Female Population'][i]/(1000*(df['Population [2011]'][i]-df['Female Population'][i]))"
      ],
      "execution_count": null,
      "outputs": []
    },
    {
      "cell_type": "code",
      "metadata": {
        "id": "Lg1FfI9wBCmk"
      },
      "source": [
        "#Handling Missing values for Purity\n",
        "df['Water Purity']=df['Water Purity'].fillna((df['Water Purity'].mean()))  "
      ],
      "execution_count": null,
      "outputs": []
    },
    {
      "cell_type": "code",
      "metadata": {
        "id": "QzTGJ2BXBNet"
      },
      "source": [
        "#Handling Missing values for Foregin Visitors by state\n",
        "grouped = df.groupby('State')\n",
        "j = 0\n",
        "i=0\n",
        "means={}\n",
        "for col,group in grouped:\n",
        "    means[col] = group['Foreign Visitors'].mean()                          \n",
        "    #print(col)\n",
        "for i in range(len(df.values)):\n",
        "  if(math.isnan(df['Foreign Visitors'][i])):\n",
        "    #print(df3['State'][i])\n",
        "    j+=1\n",
        "    df['Foreign Visitors'][i] = means[df['State'][i]]"
      ],
      "execution_count": null,
      "outputs": []
    },
    {
      "cell_type": "code",
      "metadata": {
        "id": "qZ1gjwcTBuvE"
      },
      "source": [
        "#Handling Missing values for Toilets by city type \n",
        "grouped = df.groupby('Type')\n",
        "j = 0\n",
        "i=0\n",
        "means={}\n",
        "for col,group in grouped:\n",
        "    means[col] = group['Toilets Avl'].mean()                         \n",
        "    \n",
        "for i in range(len(df.values)):\n",
        "  if(math.isnan(df['Toilets Avl'][i])):   \n",
        "    j+=1\n",
        "    df['Toilets Avl'][i] = means[df['Type'][i]]"
      ],
      "execution_count": null,
      "outputs": []
    },
    {
      "cell_type": "code",
      "metadata": {
        "id": "6KrNsjOAC4HJ"
      },
      "source": [
        "#Handling Missing values for Tempearture by state\n",
        "grouped = df.groupby('State')\n",
        "j = 0\n",
        "i=0\n",
        "means={}\n",
        "for col,group in grouped:\n",
        "    means[col] = group['Avg Temp'].mean()                           \n",
        "    \n",
        "for i in range(len(df.values)):\n",
        "  if(math.isnan(df['Avg Temp'][i])):\n",
        "    \n",
        "    j+=1\n",
        "    df['Avg Temp'][i] = means[df['State'][i]]\n",
        "for i in range(len(df.values)):\n",
        "    if(df['State'][i] == \"Sikkim\"):\n",
        "        df['Avg Temp'][i] = means['Assam']\n",
        "    if(df['State'][i] == \"Andaman and Nicobar Islands\"):\n",
        "        df['Avg Temp'][i] = 23"
      ],
      "execution_count": null,
      "outputs": []
    },
    {
      "cell_type": "code",
      "metadata": {
        "id": "V-oRy8dbDPht"
      },
      "source": [
        "#Handling Missing values for hospitals by type of city\n",
        "grouped = df.groupby('Type')\n",
        "j = 0\n",
        "i=0\n",
        "means1={}\n",
        "for col,group in grouped:\n",
        "    means1[col] = group['# of hospitals'].mean()                           #imputer hospitals\n",
        "    \n",
        "for i in range(len(df.values)):\n",
        "  if(math.isnan(df['# of hospitals'][i])):\n",
        "    \n",
        "    j+=1\n",
        "    df['# of hospitals'][i] = means1[df['Type'][i]]\n"
      ],
      "execution_count": null,
      "outputs": []
    },
    {
      "cell_type": "code",
      "metadata": {
        "id": "URnie2OMIDRl",
        "outputId": "e87cf4ac-6cb5-4439-b678-2bffe5e6299b",
        "colab": {
          "base_uri": "https://localhost:8080/",
          "height": 302
        }
      },
      "source": [
        "#missing values\n",
        "df.isnull().sum()"
      ],
      "execution_count": null,
      "outputs": [
        {
          "output_type": "execute_result",
          "data": {
            "text/plain": [
              "City                   0\n",
              "State                  0\n",
              "Type                   0\n",
              "Population [2011]      7\n",
              "Popuation [2001]     492\n",
              "Sex Ratio              0\n",
              "Median Age            18\n",
              "Avg Temp               0\n",
              "SWM                    4\n",
              "Toilets Avl            0\n",
              "Water Purity           0\n",
              "H Index              140\n",
              "Female Population      7\n",
              "# of hospitals         0\n",
              "Foreign Visitors       0\n",
              "Covid Cases            0\n",
              "dtype: int64"
            ]
          },
          "metadata": {
            "tags": []
          },
          "execution_count": 12
        }
      ]
    },
    {
      "cell_type": "markdown",
      "metadata": {
        "id": "vE8v-wimA7x_"
      },
      "source": [
        "# Feature Selection"
      ]
    },
    {
      "cell_type": "code",
      "metadata": {
        "id": "FDUHIJkDASpD",
        "outputId": "862fd2ae-88ad-40cb-a1ee-8e59b7eb8e64",
        "colab": {
          "base_uri": "https://localhost:8080/",
          "height": 640
        }
      },
      "source": [
        "plt.figure(figsize=(12, 9))\n",
        "sns.heatmap(df.corr(), annot=True)"
      ],
      "execution_count": null,
      "outputs": [
        {
          "output_type": "execute_result",
          "data": {
            "text/plain": [
              "<matplotlib.axes._subplots.AxesSubplot at 0x7f8f86407dd8>"
            ]
          },
          "metadata": {
            "tags": []
          },
          "execution_count": 13
        },
        {
          "output_type": "display_data",
          "data": {
            "image/png": "[encoded data removed]",
            "text/plain": [
              "<Figure size 864x648 with 2 Axes>"
            ]
          },
          "metadata": {
            "tags": [],
            "needs_background": "light"
          }
        }
      ]
    },
    {
      "cell_type": "code",
      "metadata": {
        "id": "KUO2mzSgAgK6",
        "outputId": "2fa78955-dc49-43e6-ec9f-87dddc93d3a9",
        "colab": {
          "base_uri": "https://localhost:8080/",
          "height": 195
        }
      },
      "source": [
        "#dropping these columns due to low correlation with covid cases\n",
        "df = df.drop(['H Index','Popuation [2001]','Median Age'], axis = 1)\n",
        "df.head()"
      ],
      "execution_count": null,
      "outputs": [
        {
          "output_type": "execute_result",
          "data": {
            "text/html": [
              "<div>\n",
              "<style scoped>\n",
              "    .dataframe tbody tr th:only-of-type {\n",
              "        vertical-align: middle;\n",
              "    }\n",
              "\n",
              "    .dataframe tbody tr th {\n",
              "        vertical-align: top;\n",
              "    }\n",
              "\n",
              "    .dataframe thead th {\n",
              "        text-align: right;\n",
              "    }\n",
              "</style>\n",
              "<table border=\"1\" class=\"dataframe\">\n",
              "  <thead>\n",
              "    <tr style=\"text-align: right;\">\n",
              "      <th></th>\n",
              "      <th>City</th>\n",
              "      <th>State</th>\n",
              "      <th>Type</th>\n",
              "      <th>Population [2011]</th>\n",
              "      <th>Sex Ratio</th>\n",
              "      <th>Avg Temp</th>\n",
              "      <th>SWM</th>\n",
              "      <th>Toilets Avl</th>\n",
              "      <th>Water Purity</th>\n",
              "      <th>Female Population</th>\n",
              "      <th># of hospitals</th>\n",
              "      <th>Foreign Visitors</th>\n",
              "      <th>Covid Cases</th>\n",
              "    </tr>\n",
              "  </thead>\n",
              "  <tbody>\n",
              "    <tr>\n",
              "      <th>0</th>\n",
              "      <td>Mumbai</td>\n",
              "      <td>Maharashtra</td>\n",
              "      <td>M.C</td>\n",
              "      <td>12442373.0</td>\n",
              "      <td>878.0</td>\n",
              "      <td>32.0</td>\n",
              "      <td>MEDIUM</td>\n",
              "      <td>219.0</td>\n",
              "      <td>150.0</td>\n",
              "      <td>10924403.0</td>\n",
              "      <td>159.0</td>\n",
              "      <td>4408916.0</td>\n",
              "      <td>163115</td>\n",
              "    </tr>\n",
              "    <tr>\n",
              "      <th>1</th>\n",
              "      <td>Delhi</td>\n",
              "      <td>Delhi</td>\n",
              "      <td>M.C</td>\n",
              "      <td>11007835.0</td>\n",
              "      <td>858.0</td>\n",
              "      <td>30.0</td>\n",
              "      <td>MEDIUM</td>\n",
              "      <td>215.0</td>\n",
              "      <td>196.0</td>\n",
              "      <td>9444722.0</td>\n",
              "      <td>148.0</td>\n",
              "      <td>2379169.0</td>\n",
              "      <td>80188</td>\n",
              "    </tr>\n",
              "    <tr>\n",
              "      <th>2</th>\n",
              "      <td>Bangalore</td>\n",
              "      <td>Karnataka</td>\n",
              "      <td>MPUA</td>\n",
              "      <td>8436675.0</td>\n",
              "      <td>936.0</td>\n",
              "      <td>37.0</td>\n",
              "      <td>HIGH</td>\n",
              "      <td>212.0</td>\n",
              "      <td>102.0</td>\n",
              "      <td>7896728.0</td>\n",
              "      <td>123.0</td>\n",
              "      <td>636502.0</td>\n",
              "      <td>141000</td>\n",
              "    </tr>\n",
              "    <tr>\n",
              "      <th>3</th>\n",
              "      <td>Hyderabad</td>\n",
              "      <td>Telangana</td>\n",
              "      <td>MPUA</td>\n",
              "      <td>6809970.0</td>\n",
              "      <td>930.0</td>\n",
              "      <td>31.0</td>\n",
              "      <td>MEDIUM</td>\n",
              "      <td>217.0</td>\n",
              "      <td>118.0</td>\n",
              "      <td>6333272.0</td>\n",
              "      <td>110.0</td>\n",
              "      <td>126078.0</td>\n",
              "      <td>55123</td>\n",
              "    </tr>\n",
              "    <tr>\n",
              "      <th>4</th>\n",
              "      <td>Ahmedabad</td>\n",
              "      <td>Gujarat</td>\n",
              "      <td>MPUA</td>\n",
              "      <td>5570585.0</td>\n",
              "      <td>852.0</td>\n",
              "      <td>25.0</td>\n",
              "      <td>LOW</td>\n",
              "      <td>227.0</td>\n",
              "      <td>109.0</td>\n",
              "      <td>4746138.0</td>\n",
              "      <td>73.0</td>\n",
              "      <td>284973.0</td>\n",
              "      <td>33204</td>\n",
              "    </tr>\n",
              "  </tbody>\n",
              "</table>\n",
              "</div>"
            ],
            "text/plain": [
              "        City        State  Type  ...  # of hospitals  Foreign Visitors  Covid Cases\n",
              "0     Mumbai  Maharashtra   M.C  ...           159.0         4408916.0       163115\n",
              "1      Delhi        Delhi   M.C  ...           148.0         2379169.0        80188\n",
              "2  Bangalore    Karnataka  MPUA  ...           123.0          636502.0       141000\n",
              "3  Hyderabad    Telangana  MPUA  ...           110.0          126078.0        55123\n",
              "4  Ahmedabad      Gujarat  MPUA  ...            73.0          284973.0        33204\n",
              "\n",
              "[5 rows x 13 columns]"
            ]
          },
          "metadata": {
            "tags": []
          },
          "execution_count": 14
        }
      ]
    },
    {
      "cell_type": "code",
      "metadata": {
        "id": "toQ-l2a4Azm1",
        "outputId": "a772c5ba-1440-4bec-96b7-30c3fa612e94",
        "colab": {
          "base_uri": "https://localhost:8080/",
          "height": 34
        }
      },
      "source": [
        "## SWM encoding\n",
        "j = 0\n",
        "swm = {}\n",
        "for i in df['SWM'].unique():\n",
        "  if j<3:\n",
        "    swm[i] = j\n",
        "    j+=1\n",
        "for i in range(len(df)):\n",
        "  if df['SWM'][i] in swm.keys():\n",
        "    df['SWM'][i] = swm[df['SWM'][i]]\n",
        "print(df['SWM'].unique())"
      ],
      "execution_count": null,
      "outputs": [
        {
          "output_type": "stream",
          "text": [
            "[0 1 2 nan]\n"
          ],
          "name": "stdout"
        }
      ]
    },
    {
      "cell_type": "code",
      "metadata": {
        "id": "9KXalqfRFWgE",
        "outputId": "641cea87-e36a-4611-d680-bb1b6408628d",
        "colab": {
          "base_uri": "https://localhost:8080/",
          "height": 50
        }
      },
      "source": [
        "## state encoding\n",
        "j = 0\n",
        "state = {}\n",
        "for i in df['State'].unique():\n",
        "  state[i] = j\n",
        "  j+=1\n",
        "for i in range(len(df)):\n",
        "  if df['State'][i] in state.keys():\n",
        "    df['State'][i] = state[df['State'][i]]\n",
        "print(df['State'].unique())"
      ],
      "execution_count": null,
      "outputs": [
        {
          "output_type": "stream",
          "text": [
            "[0 1 2 3 4 5 6 7 8 9 10 11 12 13 14 15 16 17 18 19 20 21 22 23 24 25 26 27\n",
            " 28 29 30 31 32]\n"
          ],
          "name": "stdout"
        }
      ]
    },
    {
      "cell_type": "code",
      "metadata": {
        "id": "B4iZrxktFhur",
        "outputId": "cfc25e26-650a-49b3-f059-3e1544a6722d",
        "colab": {
          "base_uri": "https://localhost:8080/",
          "height": 118
        }
      },
      "source": [
        "## city type encoding\n",
        "j = 0\n",
        "c_type = {}\n",
        "print(df['Type'].unique())\n",
        "for i in df['Type'].unique():\n",
        "  c_type[i] = j\n",
        "  j+=1\n",
        "for i in range(len(df)):\n",
        "  if df['Type'][i] in c_type.keys():\n",
        "    df['Type'][i] = c_type[df['Type'][i]]\n",
        "print(df['Type'].unique())"
      ],
      "execution_count": null,
      "outputs": [
        {
          "output_type": "stream",
          "text": [
            "['M.C' 'MPUA' 'T' 'M' 'C-1T' 'M.Cl' 'M.Corp' 'N.P' 'UA' 'M.B.' 'N.Pd'\n",
            " 'M.Cl.' 'M.B' 'N.P.P' 'CMC' 'C.T' 'C.M.C' 'N.P.' 'Nagar Parishad' 'N.A.C'\n",
            " 'MB' 'M Cl' 'M.Corp.' 'U.A' 'N.P.P.' 'T.C' 'T.M.C' 'N.T' 'C.B' 'NPP'\n",
            " 'T.M.C.' 'NP' 'Np' 'C.T.' 'T.P' 'N.A' 'T.P.']\n",
            "[0 1 2 3 4 5 6 7 8 9 10 11 12 13 14 15 16 17 18 19 20 21 22 23 24 25 26 27\n",
            " 28 29 30 31 32 33 34 35 36]\n"
          ],
          "name": "stdout"
        }
      ]
    },
    {
      "cell_type": "code",
      "metadata": {
        "id": "J0ye7bCAFyv9",
        "outputId": "f3828f80-9b6d-453c-9b38-f2c9f97f73c9",
        "colab": {
          "base_uri": "https://localhost:8080/",
          "height": 195
        }
      },
      "source": [
        "df.head()"
      ],
      "execution_count": null,
      "outputs": [
        {
          "output_type": "execute_result",
          "data": {
            "text/html": [
              "<div>\n",
              "<style scoped>\n",
              "    .dataframe tbody tr th:only-of-type {\n",
              "        vertical-align: middle;\n",
              "    }\n",
              "\n",
              "    .dataframe tbody tr th {\n",
              "        vertical-align: top;\n",
              "    }\n",
              "\n",
              "    .dataframe thead th {\n",
              "        text-align: right;\n",
              "    }\n",
              "</style>\n",
              "<table border=\"1\" class=\"dataframe\">\n",
              "  <thead>\n",
              "    <tr style=\"text-align: right;\">\n",
              "      <th></th>\n",
              "      <th>City</th>\n",
              "      <th>State</th>\n",
              "      <th>Type</th>\n",
              "      <th>Population [2011]</th>\n",
              "      <th>Sex Ratio</th>\n",
              "      <th>Avg Temp</th>\n",
              "      <th>SWM</th>\n",
              "      <th>Toilets Avl</th>\n",
              "      <th>Water Purity</th>\n",
              "      <th>Female Population</th>\n",
              "      <th># of hospitals</th>\n",
              "      <th>Foreign Visitors</th>\n",
              "      <th>Covid Cases</th>\n",
              "    </tr>\n",
              "  </thead>\n",
              "  <tbody>\n",
              "    <tr>\n",
              "      <th>0</th>\n",
              "      <td>Mumbai</td>\n",
              "      <td>0</td>\n",
              "      <td>0</td>\n",
              "      <td>12442373.0</td>\n",
              "      <td>878.0</td>\n",
              "      <td>32.0</td>\n",
              "      <td>0</td>\n",
              "      <td>219.0</td>\n",
              "      <td>150.0</td>\n",
              "      <td>10924403.0</td>\n",
              "      <td>159.0</td>\n",
              "      <td>4408916.0</td>\n",
              "      <td>163115</td>\n",
              "    </tr>\n",
              "    <tr>\n",
              "      <th>1</th>\n",
              "      <td>Delhi</td>\n",
              "      <td>1</td>\n",
              "      <td>0</td>\n",
              "      <td>11007835.0</td>\n",
              "      <td>858.0</td>\n",
              "      <td>30.0</td>\n",
              "      <td>0</td>\n",
              "      <td>215.0</td>\n",
              "      <td>196.0</td>\n",
              "      <td>9444722.0</td>\n",
              "      <td>148.0</td>\n",
              "      <td>2379169.0</td>\n",
              "      <td>80188</td>\n",
              "    </tr>\n",
              "    <tr>\n",
              "      <th>2</th>\n",
              "      <td>Bangalore</td>\n",
              "      <td>2</td>\n",
              "      <td>1</td>\n",
              "      <td>8436675.0</td>\n",
              "      <td>936.0</td>\n",
              "      <td>37.0</td>\n",
              "      <td>1</td>\n",
              "      <td>212.0</td>\n",
              "      <td>102.0</td>\n",
              "      <td>7896728.0</td>\n",
              "      <td>123.0</td>\n",
              "      <td>636502.0</td>\n",
              "      <td>141000</td>\n",
              "    </tr>\n",
              "    <tr>\n",
              "      <th>3</th>\n",
              "      <td>Hyderabad</td>\n",
              "      <td>3</td>\n",
              "      <td>1</td>\n",
              "      <td>6809970.0</td>\n",
              "      <td>930.0</td>\n",
              "      <td>31.0</td>\n",
              "      <td>0</td>\n",
              "      <td>217.0</td>\n",
              "      <td>118.0</td>\n",
              "      <td>6333272.0</td>\n",
              "      <td>110.0</td>\n",
              "      <td>126078.0</td>\n",
              "      <td>55123</td>\n",
              "    </tr>\n",
              "    <tr>\n",
              "      <th>4</th>\n",
              "      <td>Ahmedabad</td>\n",
              "      <td>4</td>\n",
              "      <td>1</td>\n",
              "      <td>5570585.0</td>\n",
              "      <td>852.0</td>\n",
              "      <td>25.0</td>\n",
              "      <td>2</td>\n",
              "      <td>227.0</td>\n",
              "      <td>109.0</td>\n",
              "      <td>4746138.0</td>\n",
              "      <td>73.0</td>\n",
              "      <td>284973.0</td>\n",
              "      <td>33204</td>\n",
              "    </tr>\n",
              "  </tbody>\n",
              "</table>\n",
              "</div>"
            ],
            "text/plain": [
              "        City State Type  ...  # of hospitals  Foreign Visitors  Covid Cases\n",
              "0     Mumbai     0    0  ...           159.0         4408916.0       163115\n",
              "1      Delhi     1    0  ...           148.0         2379169.0        80188\n",
              "2  Bangalore     2    1  ...           123.0          636502.0       141000\n",
              "3  Hyderabad     3    1  ...           110.0          126078.0        55123\n",
              "4  Ahmedabad     4    1  ...            73.0          284973.0        33204\n",
              "\n",
              "[5 rows x 13 columns]"
            ]
          },
          "metadata": {
            "tags": []
          },
          "execution_count": 18
        }
      ]
    },
    {
      "cell_type": "code",
      "metadata": {
        "id": "kLkOAYZFIjd_"
      },
      "source": [
        "df = df.drop(['City'], axis = 1)\n"
      ],
      "execution_count": null,
      "outputs": []
    },
    {
      "cell_type": "code",
      "metadata": {
        "id": "pmS7yuCXKg_c",
        "outputId": "c9e994bd-2cb1-48c8-efba-99d6a2efa179",
        "colab": {
          "base_uri": "https://localhost:8080/",
          "height": 235
        }
      },
      "source": [
        "df.dropna(inplace = True)\n",
        "df.isnull().sum()"
      ],
      "execution_count": null,
      "outputs": [
        {
          "output_type": "execute_result",
          "data": {
            "text/plain": [
              "State                0\n",
              "Type                 0\n",
              "Population [2011]    0\n",
              "Sex Ratio            0\n",
              "Avg Temp             0\n",
              "SWM                  0\n",
              "Toilets Avl          0\n",
              "Water Purity         0\n",
              "Female Population    0\n",
              "# of hospitals       0\n",
              "Foreign Visitors     0\n",
              "Covid Cases          0\n",
              "dtype: int64"
            ]
          },
          "metadata": {
            "tags": []
          },
          "execution_count": 20
        }
      ]
    },
    {
      "cell_type": "code",
      "metadata": {
        "id": "UcNNPRV9JHFu",
        "outputId": "18353c1f-3de5-4ec2-ddbc-5d23001af77b",
        "colab": {
          "base_uri": "https://localhost:8080/",
          "height": 296
        }
      },
      "source": [
        "#outliers\n",
        "df['Covid Cases'].describe()\n",
        "import seaborn as sns\n",
        "sns.boxplot(df['Covid Cases'])"
      ],
      "execution_count": null,
      "outputs": [
        {
          "output_type": "execute_result",
          "data": {
            "text/plain": [
              "<matplotlib.axes._subplots.AxesSubplot at 0x7f8f81cc4e10>"
            ]
          },
          "metadata": {
            "tags": []
          },
          "execution_count": 21
        },
        {
          "output_type": "display_data",
          "data": {
            "image/png": "[encoded data removed]",
            "text/plain": [
              "<Figure size 432x288 with 1 Axes>"
            ]
          },
          "metadata": {
            "tags": [],
            "needs_background": "light"
          }
        }
      ]
    },
    {
      "cell_type": "code",
      "metadata": {
        "id": "FPhyDnldJeCf"
      },
      "source": [
        "Q1 = df['Covid Cases'].quantile(0.25)\n",
        "Q3 = df['Covid Cases'].quantile(0.75)\n",
        "IQR = Q3 - Q1\n",
        "outliers = df[((df['Covid Cases'] < (Q1 - 1.5 * IQR)) | (df['Covid Cases'] > (Q3 + 1.5 * IQR)))].index\n",
        "#removed rows having outliers of covid cases \n",
        "df.drop(outliers , inplace = True)"
      ],
      "execution_count": null,
      "outputs": []
    },
    {
      "cell_type": "code",
      "metadata": {
        "id": "i1cZvS5KJpdT",
        "outputId": "0bfa975b-85d7-4c8f-a2e6-70a8f3d4df25",
        "colab": {
          "base_uri": "https://localhost:8080/",
          "height": 195
        }
      },
      "source": [
        "df.head()"
      ],
      "execution_count": null,
      "outputs": [
        {
          "output_type": "execute_result",
          "data": {
            "text/html": [
              "<div>\n",
              "<style scoped>\n",
              "    .dataframe tbody tr th:only-of-type {\n",
              "        vertical-align: middle;\n",
              "    }\n",
              "\n",
              "    .dataframe tbody tr th {\n",
              "        vertical-align: top;\n",
              "    }\n",
              "\n",
              "    .dataframe thead th {\n",
              "        text-align: right;\n",
              "    }\n",
              "</style>\n",
              "<table border=\"1\" class=\"dataframe\">\n",
              "  <thead>\n",
              "    <tr style=\"text-align: right;\">\n",
              "      <th></th>\n",
              "      <th>State</th>\n",
              "      <th>Type</th>\n",
              "      <th>Population [2011]</th>\n",
              "      <th>Sex Ratio</th>\n",
              "      <th>Avg Temp</th>\n",
              "      <th>SWM</th>\n",
              "      <th>Toilets Avl</th>\n",
              "      <th>Water Purity</th>\n",
              "      <th>Female Population</th>\n",
              "      <th># of hospitals</th>\n",
              "      <th>Foreign Visitors</th>\n",
              "      <th>Covid Cases</th>\n",
              "    </tr>\n",
              "  </thead>\n",
              "  <tbody>\n",
              "    <tr>\n",
              "      <th>10</th>\n",
              "      <td>8</td>\n",
              "      <td>1</td>\n",
              "      <td>3046163.0</td>\n",
              "      <td>871.0</td>\n",
              "      <td>32.0</td>\n",
              "      <td>1</td>\n",
              "      <td>128.0</td>\n",
              "      <td>172.0</td>\n",
              "      <td>2653208.0</td>\n",
              "      <td>61.0</td>\n",
              "      <td>1475311.0</td>\n",
              "      <td>14001</td>\n",
              "    </tr>\n",
              "    <tr>\n",
              "      <th>12</th>\n",
              "      <td>10</td>\n",
              "      <td>3</td>\n",
              "      <td>2800000.0</td>\n",
              "      <td>919.0</td>\n",
              "      <td>34.0</td>\n",
              "      <td>2</td>\n",
              "      <td>116.0</td>\n",
              "      <td>142.0</td>\n",
              "      <td>2573200.0</td>\n",
              "      <td>56.0</td>\n",
              "      <td>421365.0</td>\n",
              "      <td>15764</td>\n",
              "    </tr>\n",
              "    <tr>\n",
              "      <th>15</th>\n",
              "      <td>10</td>\n",
              "      <td>1</td>\n",
              "      <td>1964086.0</td>\n",
              "      <td>929.0</td>\n",
              "      <td>37.0</td>\n",
              "      <td>0</td>\n",
              "      <td>149.0</td>\n",
              "      <td>172.0</td>\n",
              "      <td>1824636.0</td>\n",
              "      <td>76.0</td>\n",
              "      <td>421365.0</td>\n",
              "      <td>15764</td>\n",
              "    </tr>\n",
              "    <tr>\n",
              "      <th>17</th>\n",
              "      <td>10</td>\n",
              "      <td>1</td>\n",
              "      <td>1798218.0</td>\n",
              "      <td>926.0</td>\n",
              "      <td>35.0</td>\n",
              "      <td>2</td>\n",
              "      <td>113.0</td>\n",
              "      <td>185.0</td>\n",
              "      <td>1665150.0</td>\n",
              "      <td>72.0</td>\n",
              "      <td>421365.0</td>\n",
              "      <td>12446</td>\n",
              "    </tr>\n",
              "    <tr>\n",
              "      <th>21</th>\n",
              "      <td>4</td>\n",
              "      <td>1</td>\n",
              "      <td>1670806.0</td>\n",
              "      <td>840.0</td>\n",
              "      <td>29.0</td>\n",
              "      <td>2</td>\n",
              "      <td>112.0</td>\n",
              "      <td>156.0</td>\n",
              "      <td>1403477.0</td>\n",
              "      <td>91.0</td>\n",
              "      <td>284973.0</td>\n",
              "      <td>9439</td>\n",
              "    </tr>\n",
              "  </tbody>\n",
              "</table>\n",
              "</div>"
            ],
            "text/plain": [
              "   State Type  Population [2011]  ...  # of hospitals  Foreign Visitors Covid Cases\n",
              "10     8    1          3046163.0  ...            61.0         1475311.0       14001\n",
              "12    10    3          2800000.0  ...            56.0          421365.0       15764\n",
              "15    10    1          1964086.0  ...            76.0          421365.0       15764\n",
              "17    10    1          1798218.0  ...            72.0          421365.0       12446\n",
              "21     4    1          1670806.0  ...            91.0          284973.0        9439\n",
              "\n",
              "[5 rows x 12 columns]"
            ]
          },
          "metadata": {
            "tags": []
          },
          "execution_count": 23
        }
      ]
    },
    {
      "cell_type": "code",
      "metadata": {
        "id": "qi3cJbysJu6z",
        "outputId": "71978465-8098-406a-aa43-bb33a8f6fb0c",
        "colab": {
          "base_uri": "https://localhost:8080/",
          "height": 185
        }
      },
      "source": [
        "#separting x and y\n",
        "X = df.iloc[:, :-1].values\n",
        "y = df.iloc[:, -1:].values\n",
        "print(y[0:5])\n",
        "print(X[0:5])"
      ],
      "execution_count": null,
      "outputs": [
        {
          "output_type": "stream",
          "text": [
            "[[14001]\n",
            " [15764]\n",
            " [15764]\n",
            " [12446]\n",
            " [ 9439]]\n",
            "[[8 1 3046163.0 871.0 32.0 1 128.0 172.0 2653208.0 61.0 1475311.0]\n",
            " [10 3 2800000.0 919.0 34.0 2 116.0 142.0 2573200.0 56.0 421365.0]\n",
            " [10 1 1964086.0 929.0 37.0 0 149.0 172.0 1824636.0 76.0 421365.0]\n",
            " [10 1 1798218.0 926.0 35.0 2 113.0 185.0 1665150.0 72.0 421365.0]\n",
            " [4 1 1670806.0 840.0 29.0 2 112.0 156.0 1403477.0 91.0 284973.0]]\n"
          ],
          "name": "stdout"
        }
      ]
    },
    {
      "cell_type": "code",
      "metadata": {
        "id": "8IKFhktQJ-vF",
        "outputId": "99101175-614b-4a67-a650-0014145eb206",
        "colab": {
          "base_uri": "https://localhost:8080/",
          "height": 195
        }
      },
      "source": [
        "#normalise train dataset\n",
        "mm_scaler = preprocessing.MinMaxScaler()\n",
        "Train_minmax = mm_scaler.fit_transform(X)\n",
        "X=pd.DataFrame(Train_minmax)\n",
        "X.head()"
      ],
      "execution_count": null,
      "outputs": [
        {
          "output_type": "execute_result",
          "data": {
            "text/html": [
              "<div>\n",
              "<style scoped>\n",
              "    .dataframe tbody tr th:only-of-type {\n",
              "        vertical-align: middle;\n",
              "    }\n",
              "\n",
              "    .dataframe tbody tr th {\n",
              "        vertical-align: top;\n",
              "    }\n",
              "\n",
              "    .dataframe thead th {\n",
              "        text-align: right;\n",
              "    }\n",
              "</style>\n",
              "<table border=\"1\" class=\"dataframe\">\n",
              "  <thead>\n",
              "    <tr style=\"text-align: right;\">\n",
              "      <th></th>\n",
              "      <th>0</th>\n",
              "      <th>1</th>\n",
              "      <th>2</th>\n",
              "      <th>3</th>\n",
              "      <th>4</th>\n",
              "      <th>5</th>\n",
              "      <th>6</th>\n",
              "      <th>7</th>\n",
              "      <th>8</th>\n",
              "      <th>9</th>\n",
              "      <th>10</th>\n",
              "    </tr>\n",
              "  </thead>\n",
              "  <tbody>\n",
              "    <tr>\n",
              "      <th>0</th>\n",
              "      <td>0.2500</td>\n",
              "      <td>0.027778</td>\n",
              "      <td>1.000000</td>\n",
              "      <td>0.835891</td>\n",
              "      <td>0.771429</td>\n",
              "      <td>0.5</td>\n",
              "      <td>0.78</td>\n",
              "      <td>0.72</td>\n",
              "      <td>1.000000</td>\n",
              "      <td>0.566667</td>\n",
              "      <td>0.314804</td>\n",
              "    </tr>\n",
              "    <tr>\n",
              "      <th>1</th>\n",
              "      <td>0.3125</td>\n",
              "      <td>0.083333</td>\n",
              "      <td>0.918251</td>\n",
              "      <td>0.881957</td>\n",
              "      <td>0.828571</td>\n",
              "      <td>1.0</td>\n",
              "      <td>0.66</td>\n",
              "      <td>0.42</td>\n",
              "      <td>0.969489</td>\n",
              "      <td>0.511111</td>\n",
              "      <td>0.089790</td>\n",
              "    </tr>\n",
              "    <tr>\n",
              "      <th>2</th>\n",
              "      <td>0.3125</td>\n",
              "      <td>0.027778</td>\n",
              "      <td>0.640651</td>\n",
              "      <td>0.891554</td>\n",
              "      <td>0.914286</td>\n",
              "      <td>0.0</td>\n",
              "      <td>0.99</td>\n",
              "      <td>0.72</td>\n",
              "      <td>0.684028</td>\n",
              "      <td>0.733333</td>\n",
              "      <td>0.089790</td>\n",
              "    </tr>\n",
              "    <tr>\n",
              "      <th>3</th>\n",
              "      <td>0.3125</td>\n",
              "      <td>0.027778</td>\n",
              "      <td>0.585568</td>\n",
              "      <td>0.888675</td>\n",
              "      <td>0.857143</td>\n",
              "      <td>1.0</td>\n",
              "      <td>0.63</td>\n",
              "      <td>0.85</td>\n",
              "      <td>0.623209</td>\n",
              "      <td>0.688889</td>\n",
              "      <td>0.089790</td>\n",
              "    </tr>\n",
              "    <tr>\n",
              "      <th>4</th>\n",
              "      <td>0.1250</td>\n",
              "      <td>0.027778</td>\n",
              "      <td>0.543255</td>\n",
              "      <td>0.806141</td>\n",
              "      <td>0.685714</td>\n",
              "      <td>1.0</td>\n",
              "      <td>0.62</td>\n",
              "      <td>0.56</td>\n",
              "      <td>0.523421</td>\n",
              "      <td>0.900000</td>\n",
              "      <td>0.060670</td>\n",
              "    </tr>\n",
              "  </tbody>\n",
              "</table>\n",
              "</div>"
            ],
            "text/plain": [
              "       0         1         2         3   ...    7         8         9         10\n",
              "0  0.2500  0.027778  1.000000  0.835891  ...  0.72  1.000000  0.566667  0.314804\n",
              "1  0.3125  0.083333  0.918251  0.881957  ...  0.42  0.969489  0.511111  0.089790\n",
              "2  0.3125  0.027778  0.640651  0.891554  ...  0.72  0.684028  0.733333  0.089790\n",
              "3  0.3125  0.027778  0.585568  0.888675  ...  0.85  0.623209  0.688889  0.089790\n",
              "4  0.1250  0.027778  0.543255  0.806141  ...  0.56  0.523421  0.900000  0.060670\n",
              "\n",
              "[5 rows x 11 columns]"
            ]
          },
          "metadata": {
            "tags": []
          },
          "execution_count": 25
        }
      ]
    },
    {
      "cell_type": "code",
      "metadata": {
        "id": "N-KZx8p1KHcu",
        "outputId": "c2449be6-64fb-46de-fd47-10788ff9e700",
        "colab": {
          "base_uri": "https://localhost:8080/",
          "height": 84
        }
      },
      "source": [
        "#splitting into train and test\n",
        "X_train, X_test, y_train, y_test = train_test_split(X, y, test_size=0.2, random_state=1)\n",
        "print(X_train.shape)\n",
        "print(y_train.shape)\n",
        "print(X_test.shape)\n",
        "print(y_test.shape)"
      ],
      "execution_count": null,
      "outputs": [
        {
          "output_type": "stream",
          "text": [
            "(596, 11)\n",
            "(596, 1)\n",
            "(150, 11)\n",
            "(150, 1)\n"
          ],
          "name": "stdout"
        }
      ]
    },
    {
      "cell_type": "markdown",
      "metadata": {
        "id": "5qD1k1lKKyqb"
      },
      "source": [
        "# Best model - XGBoost - Training"
      ]
    },
    {
      "cell_type": "code",
      "metadata": {
        "id": "Bx8C3v9rK2px"
      },
      "source": [
        "#root mean square error\n",
        "def rmsle(y, y_pred):\n",
        "    return np.sqrt(mean_squared_error(y, y_pred))"
      ],
      "execution_count": null,
      "outputs": []
    },
    {
      "cell_type": "code",
      "metadata": {
        "id": "a9Y1wYecLAaf"
      },
      "source": [
        "#xg boost model\n",
        "model_xgb = xgb.XGBRegressor(colsample_bytree=0.4603, gamma=0.0468, \n",
        "                             learning_rate=0.05, max_depth=10, \n",
        "                             min_child_weight=1.7817, n_estimators=2200,\n",
        "                             reg_alpha=0.4640, reg_lambda=0.8571,\n",
        "                             subsample=1,silent=1,\n",
        "                             random_state =25, nthread = -1 , booster = 'gbtree')"
      ],
      "execution_count": null,
      "outputs": []
    },
    {
      "cell_type": "code",
      "metadata": {
        "id": "FSyfsWGiLEle",
        "outputId": "481dd696-783d-4f2e-9d09-ec543f96cc08",
        "colab": {
          "base_uri": "https://localhost:8080/",
          "height": 101
        }
      },
      "source": [
        "n_folds = 5\n",
        "def rmsle_cv(model):\n",
        "    kf = KFold(n_folds, shuffle=True, random_state=42).get_n_splits(X_train)\n",
        "    rmse= np.sqrt(-cross_val_score(model, X_train, y_train, scoring=\"neg_mean_squared_error\", cv = kf))\n",
        "    return(rmse)\n",
        "\n",
        "score = rmsle_cv(model_xgb)\n",
        "model_xgb.fit(X_train, y_train)\n",
        "y_hat = model_xgb.predict(X_test)\n",
        "\n",
        "print(\"Xgboost score for kfold: {:.4f} ({:.4f})\\n\".format(score.mean(), score.std()))\n",
        "print(\"rmse \",rmsle(y_test, y_hat))\n",
        "print(\"Mean absolute error: %.2f\" % np.mean(np.absolute(y_hat - y_test)))\n",
        "print(\"R2-score: %.2f\" % r2_score(y_hat , y_test) )"
      ],
      "execution_count": null,
      "outputs": [
        {
          "output_type": "stream",
          "text": [
            "Xgboost score for kfold: 1891.4276 (147.2753)\n",
            "\n",
            "rmse  1470.2724931664488\n",
            "Mean absolute error: 3372.99\n",
            "R2-score: 0.78\n"
          ],
          "name": "stdout"
        }
      ]
    },
    {
      "cell_type": "code",
      "metadata": {
        "id": "D0soHvcfLg3E",
        "outputId": "32b770ac-4a9d-4a5b-9f2a-393a3630add6",
        "colab": {
          "base_uri": "https://localhost:8080/",
          "height": 34
        }
      },
      "source": [
        "#tells how good rmse is :\n",
        "print(\"SI INDEX : \",rmsle(y_test, y_hat) / y.mean())"
      ],
      "execution_count": null,
      "outputs": [
        {
          "output_type": "stream",
          "text": [
            "SI INDEX :  0.3225178677523002\n"
          ],
          "name": "stdout"
        }
      ]
    },
    {
      "cell_type": "code",
      "metadata": {
        "id": "C1tkKLq3L9ui",
        "outputId": "51a3b092-c564-4824-c64a-1610f36d43ff",
        "colab": {
          "base_uri": "https://localhost:8080/",
          "height": 486
        }
      },
      "source": [
        "y_t = []\n",
        "for i in y_test:\n",
        "  y_t.append(i[0])\n",
        "y_p = []\n",
        "# for i in y_hat:\n",
        "#   y_p.append(i[0])\n",
        "\n",
        "\n",
        "#graph to evaluate model\n",
        "df = pd.DataFrame({'Actual': y_t, 'Predicted': y_hat})\n",
        "df1 = df.head(50)\n",
        "df1.plot(kind='bar',figsize=(10,8))\n",
        "plt.grid(which='major', linestyle='-', linewidth='0.5', color='green')\n",
        "plt.grid(which='minor', linestyle=':', linewidth='0.5', color='black')\n",
        "plt.savefig(\"xgboost.jpeg\")\n",
        "plt.show()"
      ],
      "execution_count": null,
      "outputs": [
        {
          "output_type": "display_data",
          "data": {
            "image/png": "[encoded data removed]",
            "text/plain": [
              "<Figure size 720x576 with 1 Axes>"
            ]
          },
          "metadata": {
            "tags": [],
            "needs_background": "light"
          }
        }
      ]
    },
    {
      "cell_type": "markdown",
      "metadata": {
        "id": "aU5rIKrfORTd"
      },
      "source": [
        "# Test Dataset - final results"
      ]
    },
    {
      "cell_type": "code",
      "metadata": {
        "id": "GKV5piMyOPsN",
        "outputId": "42047601-5974-462d-b777-c6855da8e8c0",
        "colab": {
          "resources": {
            "http://localhost:8080/nbextensions/google.colab/files.js": {
              "data": "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",
              "ok": true,
              "headers": [
                [
                  "content-type",
                  "application/javascript"
                ]
              ],
              "status": 200,
              "status_text": ""
            }
          },
          "base_uri": "https://localhost:8080/",
          "height": 73
        }
      },
      "source": [
        "#upload test dataset\n",
        "uploaded = files.upload()"
      ],
      "execution_count": null,
      "outputs": [
        {
          "output_type": "display_data",
          "data": {
            "text/html": [
              "\n",
              "     <input type=\"file\" id=\"files-023940a5-3012-4f7a-9624-a71b157402a8\" name=\"files[]\" multiple disabled\n",
              "        style=\"border:none\" />\n",
              "     <output id=\"result-023940a5-3012-4f7a-9624-a71b157402a8\">\n",
              "      Upload widget is only available when the cell has been executed in the\n",
              "      current browser session. Please rerun this cell to enable.\n",
              "      </output>\n",
              "      <script src=\"/nbextensions/google.colab/files.js\"></script> "
            ],
            "text/plain": [
              "<IPython.core.display.HTML object>"
            ]
          },
          "metadata": {
            "tags": []
          }
        },
        {
          "output_type": "stream",
          "text": [
            "Saving Test_dataset.xlsx to Test_dataset.xlsx\n"
          ],
          "name": "stdout"
        }
      ]
    },
    {
      "cell_type": "code",
      "metadata": {
        "id": "cI7Q5rMBO9TY",
        "outputId": "04e47dac-0ed5-4506-dedd-6119ac16edbc",
        "colab": {
          "base_uri": "https://localhost:8080/",
          "height": 229
        }
      },
      "source": [
        "#load test dataset\n",
        "test = pd.read_excel(\"Test_dataset.xlsx\", sheet_name=0)\n",
        "test.head()"
      ],
      "execution_count": null,
      "outputs": [
        {
          "output_type": "execute_result",
          "data": {
            "text/html": [
              "<div>\n",
              "<style scoped>\n",
              "    .dataframe tbody tr th:only-of-type {\n",
              "        vertical-align: middle;\n",
              "    }\n",
              "\n",
              "    .dataframe tbody tr th {\n",
              "        vertical-align: top;\n",
              "    }\n",
              "\n",
              "    .dataframe thead th {\n",
              "        text-align: right;\n",
              "    }\n",
              "</style>\n",
              "<table border=\"1\" class=\"dataframe\">\n",
              "  <thead>\n",
              "    <tr style=\"text-align: right;\">\n",
              "      <th></th>\n",
              "      <th>City</th>\n",
              "      <th>State</th>\n",
              "      <th>Type</th>\n",
              "      <th>Population [2011]</th>\n",
              "      <th>Popuation [2001]</th>\n",
              "      <th>Sex Ratio</th>\n",
              "      <th>Median Age</th>\n",
              "      <th>Avg Temp</th>\n",
              "      <th>SWM</th>\n",
              "      <th>Toilets Avl</th>\n",
              "      <th>Water Purity</th>\n",
              "      <th>H Index</th>\n",
              "      <th>Female Population</th>\n",
              "      <th># of hospitals</th>\n",
              "      <th>Foreign Visitors</th>\n",
              "    </tr>\n",
              "  </thead>\n",
              "  <tbody>\n",
              "    <tr>\n",
              "      <th>0</th>\n",
              "      <td>Tuensang</td>\n",
              "      <td>Nagaland</td>\n",
              "      <td>T.C</td>\n",
              "      <td>36774.0</td>\n",
              "      <td>NaN</td>\n",
              "      <td>931.0</td>\n",
              "      <td>23.0</td>\n",
              "      <td>10.0</td>\n",
              "      <td>MEDIUM</td>\n",
              "      <td>94.0</td>\n",
              "      <td>114.0</td>\n",
              "      <td>0.253390</td>\n",
              "      <td>34237.0</td>\n",
              "      <td>17.0</td>\n",
              "      <td>2769.0</td>\n",
              "    </tr>\n",
              "    <tr>\n",
              "      <th>1</th>\n",
              "      <td>Lakshmeshwar</td>\n",
              "      <td>Karnataka</td>\n",
              "      <td>T.M.C</td>\n",
              "      <td>36754.0</td>\n",
              "      <td>NaN</td>\n",
              "      <td>934.0</td>\n",
              "      <td>25.0</td>\n",
              "      <td>38.0</td>\n",
              "      <td>HIGH</td>\n",
              "      <td>62.0</td>\n",
              "      <td>160.0</td>\n",
              "      <td>0.192555</td>\n",
              "      <td>34328.0</td>\n",
              "      <td>13.0</td>\n",
              "      <td>636502.0</td>\n",
              "    </tr>\n",
              "    <tr>\n",
              "      <th>2</th>\n",
              "      <td>Zira</td>\n",
              "      <td>Punjab</td>\n",
              "      <td>M.Cl.</td>\n",
              "      <td>36732.0</td>\n",
              "      <td>NaN</td>\n",
              "      <td>883.0</td>\n",
              "      <td>29.0</td>\n",
              "      <td>35.0</td>\n",
              "      <td>HIGH</td>\n",
              "      <td>63.0</td>\n",
              "      <td>105.0</td>\n",
              "      <td>0.887882</td>\n",
              "      <td>32434.0</td>\n",
              "      <td>17.0</td>\n",
              "      <td>242367.0</td>\n",
              "    </tr>\n",
              "    <tr>\n",
              "      <th>3</th>\n",
              "      <td>Yawal</td>\n",
              "      <td>Maharashtra</td>\n",
              "      <td>M.Cl</td>\n",
              "      <td>36706.0</td>\n",
              "      <td>NaN</td>\n",
              "      <td>887.0</td>\n",
              "      <td>26.0</td>\n",
              "      <td>31.0</td>\n",
              "      <td>HIGH</td>\n",
              "      <td>60.0</td>\n",
              "      <td>174.0</td>\n",
              "      <td>0.407838</td>\n",
              "      <td>32558.0</td>\n",
              "      <td>11.0</td>\n",
              "      <td>4408916.0</td>\n",
              "    </tr>\n",
              "    <tr>\n",
              "      <th>4</th>\n",
              "      <td>Thana Bhawan</td>\n",
              "      <td>Uttar Pradesh</td>\n",
              "      <td>N.P.</td>\n",
              "      <td>36669.0</td>\n",
              "      <td>NaN</td>\n",
              "      <td>877.0</td>\n",
              "      <td>28.0</td>\n",
              "      <td>39.0</td>\n",
              "      <td>LOW</td>\n",
              "      <td>92.0</td>\n",
              "      <td>153.0</td>\n",
              "      <td>0.324456</td>\n",
              "      <td>32159.0</td>\n",
              "      <td>23.0</td>\n",
              "      <td>3104060.0</td>\n",
              "    </tr>\n",
              "  </tbody>\n",
              "</table>\n",
              "</div>"
            ],
            "text/plain": [
              "           City          State  ... # of hospitals  Foreign Visitors\n",
              "0      Tuensang       Nagaland  ...           17.0            2769.0\n",
              "1  Lakshmeshwar      Karnataka  ...           13.0          636502.0\n",
              "2          Zira         Punjab  ...           17.0          242367.0\n",
              "3         Yawal    Maharashtra  ...           11.0         4408916.0\n",
              "4  Thana Bhawan  Uttar Pradesh  ...           23.0         3104060.0\n",
              "\n",
              "[5 rows x 15 columns]"
            ]
          },
          "metadata": {
            "tags": []
          },
          "execution_count": 34
        }
      ]
    },
    {
      "cell_type": "code",
      "metadata": {
        "id": "aPgy2SN_PLT-",
        "outputId": "f2bcb956-a416-4042-f5de-dc7705670640",
        "colab": {
          "base_uri": "https://localhost:8080/",
          "height": 195
        }
      },
      "source": [
        "#dropping not required columns\n",
        "test = test.drop(['H Index','Popuation [2001]','Median Age'], axis = 1)\n",
        "test.head()"
      ],
      "execution_count": null,
      "outputs": [
        {
          "output_type": "execute_result",
          "data": {
            "text/html": [
              "<div>\n",
              "<style scoped>\n",
              "    .dataframe tbody tr th:only-of-type {\n",
              "        vertical-align: middle;\n",
              "    }\n",
              "\n",
              "    .dataframe tbody tr th {\n",
              "        vertical-align: top;\n",
              "    }\n",
              "\n",
              "    .dataframe thead th {\n",
              "        text-align: right;\n",
              "    }\n",
              "</style>\n",
              "<table border=\"1\" class=\"dataframe\">\n",
              "  <thead>\n",
              "    <tr style=\"text-align: right;\">\n",
              "      <th></th>\n",
              "      <th>City</th>\n",
              "      <th>State</th>\n",
              "      <th>Type</th>\n",
              "      <th>Population [2011]</th>\n",
              "      <th>Sex Ratio</th>\n",
              "      <th>Avg Temp</th>\n",
              "      <th>SWM</th>\n",
              "      <th>Toilets Avl</th>\n",
              "      <th>Water Purity</th>\n",
              "      <th>Female Population</th>\n",
              "      <th># of hospitals</th>\n",
              "      <th>Foreign Visitors</th>\n",
              "    </tr>\n",
              "  </thead>\n",
              "  <tbody>\n",
              "    <tr>\n",
              "      <th>0</th>\n",
              "      <td>Tuensang</td>\n",
              "      <td>Nagaland</td>\n",
              "      <td>T.C</td>\n",
              "      <td>36774.0</td>\n",
              "      <td>931.0</td>\n",
              "      <td>10.0</td>\n",
              "      <td>MEDIUM</td>\n",
              "      <td>94.0</td>\n",
              "      <td>114.0</td>\n",
              "      <td>34237.0</td>\n",
              "      <td>17.0</td>\n",
              "      <td>2769.0</td>\n",
              "    </tr>\n",
              "    <tr>\n",
              "      <th>1</th>\n",
              "      <td>Lakshmeshwar</td>\n",
              "      <td>Karnataka</td>\n",
              "      <td>T.M.C</td>\n",
              "      <td>36754.0</td>\n",
              "      <td>934.0</td>\n",
              "      <td>38.0</td>\n",
              "      <td>HIGH</td>\n",
              "      <td>62.0</td>\n",
              "      <td>160.0</td>\n",
              "      <td>34328.0</td>\n",
              "      <td>13.0</td>\n",
              "      <td>636502.0</td>\n",
              "    </tr>\n",
              "    <tr>\n",
              "      <th>2</th>\n",
              "      <td>Zira</td>\n",
              "      <td>Punjab</td>\n",
              "      <td>M.Cl.</td>\n",
              "      <td>36732.0</td>\n",
              "      <td>883.0</td>\n",
              "      <td>35.0</td>\n",
              "      <td>HIGH</td>\n",
              "      <td>63.0</td>\n",
              "      <td>105.0</td>\n",
              "      <td>32434.0</td>\n",
              "      <td>17.0</td>\n",
              "      <td>242367.0</td>\n",
              "    </tr>\n",
              "    <tr>\n",
              "      <th>3</th>\n",
              "      <td>Yawal</td>\n",
              "      <td>Maharashtra</td>\n",
              "      <td>M.Cl</td>\n",
              "      <td>36706.0</td>\n",
              "      <td>887.0</td>\n",
              "      <td>31.0</td>\n",
              "      <td>HIGH</td>\n",
              "      <td>60.0</td>\n",
              "      <td>174.0</td>\n",
              "      <td>32558.0</td>\n",
              "      <td>11.0</td>\n",
              "      <td>4408916.0</td>\n",
              "    </tr>\n",
              "    <tr>\n",
              "      <th>4</th>\n",
              "      <td>Thana Bhawan</td>\n",
              "      <td>Uttar Pradesh</td>\n",
              "      <td>N.P.</td>\n",
              "      <td>36669.0</td>\n",
              "      <td>877.0</td>\n",
              "      <td>39.0</td>\n",
              "      <td>LOW</td>\n",
              "      <td>92.0</td>\n",
              "      <td>153.0</td>\n",
              "      <td>32159.0</td>\n",
              "      <td>23.0</td>\n",
              "      <td>3104060.0</td>\n",
              "    </tr>\n",
              "  </tbody>\n",
              "</table>\n",
              "</div>"
            ],
            "text/plain": [
              "           City          State  ... # of hospitals  Foreign Visitors\n",
              "0      Tuensang       Nagaland  ...           17.0            2769.0\n",
              "1  Lakshmeshwar      Karnataka  ...           13.0          636502.0\n",
              "2          Zira         Punjab  ...           17.0          242367.0\n",
              "3         Yawal    Maharashtra  ...           11.0         4408916.0\n",
              "4  Thana Bhawan  Uttar Pradesh  ...           23.0         3104060.0\n",
              "\n",
              "[5 rows x 12 columns]"
            ]
          },
          "metadata": {
            "tags": []
          },
          "execution_count": 35
        }
      ]
    },
    {
      "cell_type": "code",
      "metadata": {
        "id": "zOb-g17XPfcp",
        "outputId": "671f073d-3b02-4983-baa1-caa66a574444",
        "colab": {
          "base_uri": "https://localhost:8080/",
          "height": 118
        }
      },
      "source": [
        "#handling data errors\n",
        "print(test['Type'].unique())\n",
        "test['Type'] = test['Type'].str.replace('.','')\n",
        "print(test['Type'].unique())"
      ],
      "execution_count": null,
      "outputs": [
        {
          "output_type": "stream",
          "text": [
            "['T.C' 'T.M.C' 'M.Cl.' 'M.Cl' 'N.P.' 'UA' 'M' 'N.T' 'T.M.C.' 'N.P' 'C.T'\n",
            " 'M.B' 'T.C.' 'I.N.A' 'N.P.P' 'N.A' 'N.A.C' 'M.C' 'M.B.' 'M.C.' 'TP'\n",
            " 'N.P.P.' 'T.P' 'NAC' 'T.P.' 'G.P' 'C.T.' 'NP' 'M&F' nan 'CT' 'G.P.'\n",
            " 'N.A.C.']\n",
            "['TC' 'TMC' 'MCl' 'NP' 'UA' 'M' 'NT' 'CT' 'MB' 'INA' 'NPP' 'NA' 'NAC' 'MC'\n",
            " 'TP' 'GP' 'M&F' nan]\n"
          ],
          "name": "stdout"
        }
      ]
    },
    {
      "cell_type": "code",
      "metadata": {
        "id": "n73yvGkhPrUz",
        "outputId": "3c799fa0-8d76-448e-d7e5-1fa0fc287a81",
        "colab": {
          "base_uri": "https://localhost:8080/",
          "height": 235
        }
      },
      "source": [
        "#checking mISSING VALUES\n",
        "test.isnull().sum()"
      ],
      "execution_count": null,
      "outputs": [
        {
          "output_type": "execute_result",
          "data": {
            "text/plain": [
              "City                  0\n",
              "State                 0\n",
              "Type                  2\n",
              "Population [2011]     6\n",
              "Sex Ratio             5\n",
              "Avg Temp             14\n",
              "SWM                   9\n",
              "Toilets Avl          22\n",
              "Water Purity         19\n",
              "Female Population    15\n",
              "# of hospitals       17\n",
              "Foreign Visitors     17\n",
              "dtype: int64"
            ]
          },
          "metadata": {
            "tags": []
          },
          "execution_count": 37
        }
      ]
    },
    {
      "cell_type": "markdown",
      "metadata": {
        "id": "DNusQaSJQrhL"
      },
      "source": [
        "# Handling missing values in test dataset"
      ]
    },
    {
      "cell_type": "code",
      "metadata": {
        "id": "jlRIWbfaP5sK"
      },
      "source": [
        "#FILL WATER PURITY BY ITS MEAN\n",
        "test['Water Purity']=test['Water Purity'].fillna((test['Water Purity'].mean()))  "
      ],
      "execution_count": null,
      "outputs": []
    },
    {
      "cell_type": "code",
      "metadata": {
        "id": "upxhNS2tQNLU",
        "outputId": "89ae90a3-8141-4f9e-f041-29fde03ab9fa",
        "colab": {
          "base_uri": "https://localhost:8080/",
          "height": 235
        }
      },
      "source": [
        "test.isnull().sum()"
      ],
      "execution_count": null,
      "outputs": [
        {
          "output_type": "execute_result",
          "data": {
            "text/plain": [
              "City                  0\n",
              "State                 0\n",
              "Type                  2\n",
              "Population [2011]     6\n",
              "Sex Ratio             5\n",
              "Avg Temp             14\n",
              "SWM                   9\n",
              "Toilets Avl          22\n",
              "Water Purity          0\n",
              "Female Population    15\n",
              "# of hospitals       17\n",
              "Foreign Visitors     17\n",
              "dtype: int64"
            ]
          },
          "metadata": {
            "tags": []
          },
          "execution_count": 39
        }
      ]
    },
    {
      "cell_type": "code",
      "metadata": {
        "id": "4y_GwfGCQT5a"
      },
      "source": [
        "#Fill foregin visitors according to state\n",
        "grouped = test.groupby('State')\n",
        "j = 0\n",
        "i=0\n",
        "means={}\n",
        "for col,group in grouped:\n",
        "    means[col] = group['Foreign Visitors'].mean()                        \n",
        "    #print(col)\n",
        "for i in range(len(test.values)):\n",
        "  if(math.isnan(test['Foreign Visitors'][i])):\n",
        "    \n",
        "    j+=1\n",
        "    test['Foreign Visitors'][i] = means[test['State'][i]]\n"
      ],
      "execution_count": null,
      "outputs": []
    },
    {
      "cell_type": "code",
      "metadata": {
        "id": "04578d-UQkf-",
        "outputId": "7a08c2e1-f93d-4b28-9049-63b7048b2359",
        "colab": {
          "base_uri": "https://localhost:8080/",
          "height": 306
        }
      },
      "source": [
        "#Handling Missing values for Toilets by city type \n",
        "df3 = test\n",
        "grouped = df3.groupby('Type')\n",
        "j = 0\n",
        "i=0\n",
        "means={}\n",
        "for col,group in grouped:\n",
        "    a = col.replace('.','')\n",
        "    means[a] = group['Toilets Avl'].mean()\n",
        "print(means)\n",
        "for i in range(len(df3.values)):\n",
        "  if(math.isnan(df3['Toilets Avl'][i]) and not (df3['Type'][i]!=df3['Type'][i])):\n",
        "    a = df3['Type'][i].replace('.','')\n",
        "    j+=1\n",
        "    df3['Toilets Avl'][i] = means[a]\n",
        "\n",
        "\n",
        "print(df3['Type'].unique())\n",
        "df3.isnull().sum()"
      ],
      "execution_count": null,
      "outputs": [
        {
          "output_type": "stream",
          "text": [
            "{'CT': 66.22222222222223, 'GP': 41.25, 'INA': 84.0, 'M': 78.05982905982906, 'M&F': 79.0, 'MB': 70.52941176470588, 'MC': 81.1, 'MCl': 74.86153846153846, 'NA': 80.44444444444444, 'NAC': 65.6, 'NP': 63.476190476190474, 'NPP': 64.21739130434783, 'NT': 99.5, 'TC': 81.8, 'TMC': 72.66666666666667, 'TP': 74.8913043478261, 'UA': 80.25}\n",
            "['TC' 'TMC' 'MCl' 'NP' 'UA' 'M' 'NT' 'CT' 'MB' 'INA' 'NPP' 'NA' 'NAC' 'MC'\n",
            " 'TP' 'GP' 'M&F' nan]\n"
          ],
          "name": "stdout"
        },
        {
          "output_type": "execute_result",
          "data": {
            "text/plain": [
              "City                  0\n",
              "State                 0\n",
              "Type                  2\n",
              "Population [2011]     6\n",
              "Sex Ratio             5\n",
              "Avg Temp             14\n",
              "SWM                   9\n",
              "Toilets Avl           1\n",
              "Water Purity          0\n",
              "Female Population    15\n",
              "# of hospitals       17\n",
              "Foreign Visitors      0\n",
              "dtype: int64"
            ]
          },
          "metadata": {
            "tags": []
          },
          "execution_count": 41
        }
      ]
    },
    {
      "cell_type": "code",
      "metadata": {
        "id": "3bqWYap3Q9J_"
      },
      "source": [
        "#Handling Missing values for avg temp by state\n",
        "grouped = df3.groupby('State')\n",
        "j = 0\n",
        "i=0\n",
        "means={}\n",
        "for col,group in grouped:\n",
        "    means[col] = group['Avg Temp'].mean()                           #imputer Temp\n",
        "    \n",
        "for i in range(len(df3.values)):\n",
        "  if(math.isnan(df3['Avg Temp'][i])):\n",
        "    \n",
        "    j+=1\n",
        "    df3['Avg Temp'][i] = means[df3['State'][i]]"
      ],
      "execution_count": null,
      "outputs": []
    },
    {
      "cell_type": "code",
      "metadata": {
        "id": "xaWDwrjVRSv5",
        "outputId": "90239f5a-d375-4578-8c63-7dffeeaeddc7",
        "colab": {
          "base_uri": "https://localhost:8080/",
          "height": 77
        }
      },
      "source": [
        "test[test['Avg Temp'].isnull()]"
      ],
      "execution_count": null,
      "outputs": [
        {
          "output_type": "execute_result",
          "data": {
            "text/html": [
              "<div>\n",
              "<style scoped>\n",
              "    .dataframe tbody tr th:only-of-type {\n",
              "        vertical-align: middle;\n",
              "    }\n",
              "\n",
              "    .dataframe tbody tr th {\n",
              "        vertical-align: top;\n",
              "    }\n",
              "\n",
              "    .dataframe thead th {\n",
              "        text-align: right;\n",
              "    }\n",
              "</style>\n",
              "<table border=\"1\" class=\"dataframe\">\n",
              "  <thead>\n",
              "    <tr style=\"text-align: right;\">\n",
              "      <th></th>\n",
              "      <th>City</th>\n",
              "      <th>State</th>\n",
              "      <th>Type</th>\n",
              "      <th>Population [2011]</th>\n",
              "      <th>Sex Ratio</th>\n",
              "      <th>Avg Temp</th>\n",
              "      <th>SWM</th>\n",
              "      <th>Toilets Avl</th>\n",
              "      <th>Water Purity</th>\n",
              "      <th>Female Population</th>\n",
              "      <th># of hospitals</th>\n",
              "      <th>Foreign Visitors</th>\n",
              "    </tr>\n",
              "  </thead>\n",
              "  <tbody>\n",
              "    <tr>\n",
              "      <th>359</th>\n",
              "      <td>Silvassa</td>\n",
              "      <td>Dadra and Nagar Haveli</td>\n",
              "      <td>CT</td>\n",
              "      <td>21893.0</td>\n",
              "      <td>774.0</td>\n",
              "      <td>NaN</td>\n",
              "      <td>MEDIUM</td>\n",
              "      <td>98.0</td>\n",
              "      <td>135.0</td>\n",
              "      <td>16945.0</td>\n",
              "      <td>22.0</td>\n",
              "      <td>1797.0</td>\n",
              "    </tr>\n",
              "  </tbody>\n",
              "</table>\n",
              "</div>"
            ],
            "text/plain": [
              "         City                   State  ... # of hospitals  Foreign Visitors\n",
              "359  Silvassa  Dadra and Nagar Haveli  ...           22.0            1797.0\n",
              "\n",
              "[1 rows x 12 columns]"
            ]
          },
          "metadata": {
            "tags": []
          },
          "execution_count": 43
        }
      ]
    },
    {
      "cell_type": "code",
      "metadata": {
        "id": "crrBju2eR0Et",
        "outputId": "d2661011-f101-4b58-b44b-41afc1ed6516",
        "colab": {
          "base_uri": "https://localhost:8080/",
          "height": 235
        }
      },
      "source": [
        "#Handling Missing values for no of hospitals by city type \n",
        "\n",
        "grouped = df3.groupby('Type')\n",
        "j = 0\n",
        "i=0\n",
        "means1={}\n",
        "for col,group in grouped:\n",
        "    a = col.replace('.','')\n",
        "    means1[a] = group['# of hospitals'].mean()                           #imputer hospitals\n",
        "    \n",
        "for i in range(len(df3.values)and not (df3['Type'][i]!=df3['Type'][i])):\n",
        "  if(math.isnan(df3['# of hospitals'][i])):\n",
        "    a = df3['Type'][i].replace('.','')\n",
        "    j+=1\n",
        "    df3['# of hospitals'][i] = means1[a]\n",
        "df3.isnull().sum()"
      ],
      "execution_count": null,
      "outputs": [
        {
          "output_type": "execute_result",
          "data": {
            "text/plain": [
              "City                  0\n",
              "State                 0\n",
              "Type                  2\n",
              "Population [2011]     6\n",
              "Sex Ratio             5\n",
              "Avg Temp              1\n",
              "SWM                   9\n",
              "Toilets Avl           1\n",
              "Water Purity          0\n",
              "Female Population    15\n",
              "# of hospitals       17\n",
              "Foreign Visitors      0\n",
              "dtype: int64"
            ]
          },
          "metadata": {
            "tags": []
          },
          "execution_count": 44
        }
      ]
    },
    {
      "cell_type": "code",
      "metadata": {
        "id": "2jv0Jr8GSb7M",
        "outputId": "8de65f93-2dde-4370-82a7-35a05f0e5fae",
        "colab": {
          "base_uri": "https://localhost:8080/",
          "height": 319
        }
      },
      "source": [
        "#Handling Missing values for rest columns by mean \n",
        "df3['Sex Ratio']=df3['Sex Ratio'].fillna((df3['Sex Ratio'].mean())) \n",
        "x = [\"Sex Ratio\",\"Avg Temp\",\"Toilets Avl\",\"# of hospitals\",'Population [2011]']\n",
        "for i in x:\n",
        "  print(i)\n",
        "  df3[i]=df3[i].fillna((df3[i].mean())) \n",
        "df3.isnull().sum()"
      ],
      "execution_count": null,
      "outputs": [
        {
          "output_type": "stream",
          "text": [
            "Sex Ratio\n",
            "Avg Temp\n",
            "Toilets Avl\n",
            "# of hospitals\n",
            "Population [2011]\n"
          ],
          "name": "stdout"
        },
        {
          "output_type": "execute_result",
          "data": {
            "text/plain": [
              "City                  0\n",
              "State                 0\n",
              "Type                  2\n",
              "Population [2011]     0\n",
              "Sex Ratio             0\n",
              "Avg Temp              0\n",
              "SWM                   9\n",
              "Toilets Avl           0\n",
              "Water Purity          0\n",
              "Female Population    15\n",
              "# of hospitals        0\n",
              "Foreign Visitors      0\n",
              "dtype: int64"
            ]
          },
          "metadata": {
            "tags": []
          },
          "execution_count": 45
        }
      ]
    },
    {
      "cell_type": "code",
      "metadata": {
        "id": "9YsNXkTSY2sE",
        "outputId": "7b7c61be-dd38-4bf6-fffa-246d9dc04447",
        "colab": {
          "base_uri": "https://localhost:8080/",
          "height": 50
        }
      },
      "source": [
        "#Handling Missing values for female population by sex ratio and population \n",
        "\n",
        "df = df3\n",
        "for i in range(len(df.values)):\n",
        "  if(math.isnan(df['Population [2011]'][i]) and (not math.isnan(df['Female Population'][i])) and (not math.isnan(df['Sex Ratio'][i]))):\n",
        "    df['Population [2011]'][i]=(df['Female Population'][i]/(1000*df['Sex Ratio'][i]))+df['Female Population'][i]\n",
        "    # print(\"hello\")\n",
        "  if((not math.isnan(df['Population [2011]'][i])) and ( math.isnan(df['Female Population'][i])) and (not math.isnan(df['Sex Ratio'][i]))):\n",
        "    df['Female Population'][i]=df['Population [2011]'][i]*(1000*df['Sex Ratio'][i])/(1+(1000*df['Sex Ratio'][i]))\n",
        "  \n",
        "  if((not math.isnan(df['Population [2011]'][i])) and ( not math.isnan(df['Female Population'][i])) and ( math.isnan(df['Sex Ratio'][i]))):\n",
        "    df['Sex Ratio'][i]=df['Female Population'][i]/(1000*(df['Population [2011]'][i]-df['Female Population'][i]))\n",
        "df.isnull().sum()\n",
        "print(df['Type'].unique())"
      ],
      "execution_count": null,
      "outputs": [
        {
          "output_type": "stream",
          "text": [
            "['TC' 'TMC' 'MCl' 'NP' 'UA' 'M' 'NT' 'CT' 'MB' 'INA' 'NPP' 'NA' 'NAC' 'MC'\n",
            " 'TP' 'GP' 'M&F' nan]\n"
          ],
          "name": "stdout"
        }
      ]
    },
    {
      "cell_type": "code",
      "metadata": {
        "id": "23Hz6tlGZmfw",
        "outputId": "850f9bb1-db36-42dd-ea66-a32255d6093e",
        "colab": {
          "base_uri": "https://localhost:8080/",
          "height": 235
        }
      },
      "source": [
        "df3.isnull().sum()"
      ],
      "execution_count": null,
      "outputs": [
        {
          "output_type": "execute_result",
          "data": {
            "text/plain": [
              "City                 0\n",
              "State                0\n",
              "Type                 2\n",
              "Population [2011]    0\n",
              "Sex Ratio            0\n",
              "Avg Temp             0\n",
              "SWM                  9\n",
              "Toilets Avl          0\n",
              "Water Purity         0\n",
              "Female Population    0\n",
              "# of hospitals       0\n",
              "Foreign Visitors     0\n",
              "dtype: int64"
            ]
          },
          "metadata": {
            "tags": []
          },
          "execution_count": 47
        }
      ]
    },
    {
      "cell_type": "markdown",
      "metadata": {
        "id": "9YE2K-TwPFqP"
      },
      "source": [
        "# Enocoding"
      ]
    },
    {
      "cell_type": "code",
      "metadata": {
        "id": "RV8LMy4IZypE",
        "outputId": "dacfaa37-9e14-4e9d-96e7-100c781a48ea",
        "colab": {
          "base_uri": "https://localhost:8080/",
          "height": 67
        }
      },
      "source": [
        "## SWM encoding\n",
        "j = 0\n",
        "swm = {'MEDIUM': 0, 'HIGH': 1, 'LOW': 2}\n",
        "for i in range(len(df3)):\n",
        "  if df3['SWM'][i] in swm.keys():\n",
        "    df3['SWM'][i] = swm[df3['SWM'][i]]\n",
        "print(df3['SWM'].unique())\n",
        "print(df3['Type'].unique())"
      ],
      "execution_count": null,
      "outputs": [
        {
          "output_type": "stream",
          "text": [
            "[0 1 2 nan]\n",
            "['TC' 'TMC' 'MCl' 'NP' 'UA' 'M' 'NT' 'CT' 'MB' 'INA' 'NPP' 'NA' 'NAC' 'MC'\n",
            " 'TP' 'GP' 'M&F' nan]\n"
          ],
          "name": "stdout"
        }
      ]
    },
    {
      "cell_type": "code",
      "metadata": {
        "id": "utvGyOSXZ4m_",
        "outputId": "17c77cc4-ec73-4ae4-b00b-515178f24986",
        "colab": {
          "base_uri": "https://localhost:8080/",
          "height": 84
        }
      },
      "source": [
        "#state encoding\n",
        "state = {'Maharashtra': 0, 'Delhi': 1, 'Karnataka': 2, 'Telangana': 3, 'Gujarat': 4, 'Tamil Nadu': 5, 'Tamil nadu': 6, 'West Bengal': 7, 'Rajasthan': 8, 'Uttar Pradesh': 9, 'Madhya Pradesh': 10, 'Andhra Pradesh': 11, 'Bihar': 12, 'Punjab': 13, 'Jharkhand': 14, 'Haryana': 15, 'Jammu and Kashmir': 16, 'Chandigarh': 17, 'Chhattisgarh': 18, 'Assam': 19, 'Odisha': 20, 'Kerala': 21, 'Uttarakhand': 22, 'Tripura': 23, 'Puducherry': 24, 'Mizoram': 25, 'Manipur': 26, 'Himachal Pradesh': 27, 'Sikkim': 28, 'Andaman and Nicobar Islands': 29, 'Goa': 30, 'Nagaland': 31, 'Meghalaya': 32, 'Arunachal Pradesh' : 33, 'Dadra and Nagar Haveli':34, 'Andhra pradesh': 11}\n",
        "for i in range(len(df3)):\n",
        "  if df3['State'][i] in state.keys():\n",
        "    df3['State'][i] = state[df3['State'][i]]\n",
        "print(df3['State'].unique())\n",
        "print(df3['Type'].unique())"
      ],
      "execution_count": null,
      "outputs": [
        {
          "output_type": "stream",
          "text": [
            "[31 2 13 0 9 3 8 7 33 14 10 11 16 5 4 27 22 12 21 20 15 23 18 19 32 26 34\n",
            " 25]\n",
            "['TC' 'TMC' 'MCl' 'NP' 'UA' 'M' 'NT' 'CT' 'MB' 'INA' 'NPP' 'NA' 'NAC' 'MC'\n",
            " 'TP' 'GP' 'M&F' nan]\n"
          ],
          "name": "stdout"
        }
      ]
    },
    {
      "cell_type": "code",
      "metadata": {
        "id": "GVB3HNTmZ6vu",
        "outputId": "9cb67b77-c0a1-4bae-cf10-0f24cd920f49",
        "colab": {
          "base_uri": "https://localhost:8080/",
          "height": 319
        }
      },
      "source": [
        "#city type encoding\n",
        "j = 0\n",
        "c_type = {}\n",
        "for i in df3['Type'].unique():\n",
        "  if(not (i!=i)):\n",
        "    a = i.replace('.','')\n",
        "    if a not in c_type.keys():\n",
        "      c_type[a] = j\n",
        "      print(j)\n",
        "      j+=1\n",
        "\n",
        "\n",
        "for i in range(len(df3)):\n",
        "  if(not (df3['Type'][i]!=df3['Type'][i])):\n",
        "    a = df3['Type'][i].replace('.','')\n",
        "    if a in c_type.keys():\n",
        "      df3['Type'][i] = c_type[a]\n",
        "print(df3['Type'].unique())"
      ],
      "execution_count": null,
      "outputs": [
        {
          "output_type": "stream",
          "text": [
            "0\n",
            "1\n",
            "2\n",
            "3\n",
            "4\n",
            "5\n",
            "6\n",
            "7\n",
            "8\n",
            "9\n",
            "10\n",
            "11\n",
            "12\n",
            "13\n",
            "14\n",
            "15\n",
            "16\n",
            "[0 1 2 3 4 5 6 7 8 9 10 11 12 13 14 15 16 nan]\n"
          ],
          "name": "stdout"
        }
      ]
    },
    {
      "cell_type": "code",
      "metadata": {
        "id": "kZKn59lnZ9V_",
        "outputId": "f34c24b3-aeea-4a7f-eefc-f482d6e4c3fc",
        "colab": {
          "base_uri": "https://localhost:8080/",
          "height": 235
        }
      },
      "source": [
        "df3.isnull().sum()"
      ],
      "execution_count": null,
      "outputs": [
        {
          "output_type": "execute_result",
          "data": {
            "text/plain": [
              "City                 0\n",
              "State                0\n",
              "Type                 2\n",
              "Population [2011]    0\n",
              "Sex Ratio            0\n",
              "Avg Temp             0\n",
              "SWM                  9\n",
              "Toilets Avl          0\n",
              "Water Purity         0\n",
              "Female Population    0\n",
              "# of hospitals       0\n",
              "Foreign Visitors     0\n",
              "dtype: int64"
            ]
          },
          "metadata": {
            "tags": []
          },
          "execution_count": 51
        }
      ]
    },
    {
      "cell_type": "code",
      "metadata": {
        "id": "C7c-GcMhaAeE",
        "outputId": "5b5fc20c-264d-4584-f568-170f36859473",
        "colab": {
          "base_uri": "https://localhost:8080/",
          "height": 34
        }
      },
      "source": [
        "#swm missing value\n",
        "print(df3[\"SWM\"].unique())\n",
        "df3['Type']=df3['Type'].fillna((0)) \n",
        "\n",
        "df3['SWM']=df3['SWM'].fillna((0)) "
      ],
      "execution_count": null,
      "outputs": [
        {
          "output_type": "stream",
          "text": [
            "[0 1 2 nan]\n"
          ],
          "name": "stdout"
        }
      ]
    },
    {
      "cell_type": "markdown",
      "metadata": {
        "id": "Z7Z8e-1APZHO"
      },
      "source": [
        "# Preprocessing Test Data"
      ]
    },
    {
      "cell_type": "code",
      "metadata": {
        "id": "bjWnkUHQaKac",
        "outputId": "e12235b6-9d0a-4e42-b636-a617bc025198",
        "colab": {
          "base_uri": "https://localhost:8080/",
          "height": 34
        }
      },
      "source": [
        "Cities = df3[[\"City\"]]\n",
        "x_dataset = df3[['State','Type','Population [2011]','Sex Ratio','Avg Temp','SWM','Toilets Avl','Water Purity','Female Population','# of hospitals','Foreign Visitors']]\n",
        "x_dataset['Type'].unique()"
      ],
      "execution_count": null,
      "outputs": [
        {
          "output_type": "execute_result",
          "data": {
            "text/plain": [
              "array([ 0,  1,  2,  3,  4,  5,  6,  7,  8,  9, 10, 11, 12, 13, 14, 15, 16])"
            ]
          },
          "metadata": {
            "tags": []
          },
          "execution_count": 53
        }
      ]
    },
    {
      "cell_type": "code",
      "metadata": {
        "id": "U2bzCnVUaM04",
        "outputId": "456e0252-5d5e-4bed-9f5f-cb029b1b0d0f",
        "colab": {
          "base_uri": "https://localhost:8080/",
          "height": 34
        }
      },
      "source": [
        "Cities = df3[[\"City\"]]\n",
        "x_dataset = df3[['State','Type','Population [2011]','Sex Ratio','Avg Temp','SWM','Toilets Avl','Water Purity','Female Population','# of hospitals','Foreign Visitors']]\n",
        "x_dataset['Type'].unique()"
      ],
      "execution_count": null,
      "outputs": [
        {
          "output_type": "execute_result",
          "data": {
            "text/plain": [
              "array([ 0,  1,  2,  3,  4,  5,  6,  7,  8,  9, 10, 11, 12, 13, 14, 15, 16])"
            ]
          },
          "metadata": {
            "tags": []
          },
          "execution_count": 54
        }
      ]
    },
    {
      "cell_type": "code",
      "metadata": {
        "id": "fVKevaa0aRsQ"
      },
      "source": [
        "Cities.insert(1, \"Covid Cases\", Cities, True)"
      ],
      "execution_count": null,
      "outputs": []
    },
    {
      "cell_type": "code",
      "metadata": {
        "id": "yujSK0jpaU45",
        "outputId": "91221845-cb4f-4b14-ae08-9d1a847b3621",
        "colab": {
          "base_uri": "https://localhost:8080/",
          "height": 402
        }
      },
      "source": [
        "Cities"
      ],
      "execution_count": null,
      "outputs": [
        {
          "output_type": "execute_result",
          "data": {
            "text/html": [
              "<div>\n",
              "<style scoped>\n",
              "    .dataframe tbody tr th:only-of-type {\n",
              "        vertical-align: middle;\n",
              "    }\n",
              "\n",
              "    .dataframe tbody tr th {\n",
              "        vertical-align: top;\n",
              "    }\n",
              "\n",
              "    .dataframe thead th {\n",
              "        text-align: right;\n",
              "    }\n",
              "</style>\n",
              "<table border=\"1\" class=\"dataframe\">\n",
              "  <thead>\n",
              "    <tr style=\"text-align: right;\">\n",
              "      <th></th>\n",
              "      <th>City</th>\n",
              "      <th>Covid Cases</th>\n",
              "    </tr>\n",
              "  </thead>\n",
              "  <tbody>\n",
              "    <tr>\n",
              "      <th>0</th>\n",
              "      <td>Tuensang</td>\n",
              "      <td>Tuensang</td>\n",
              "    </tr>\n",
              "    <tr>\n",
              "      <th>1</th>\n",
              "      <td>Lakshmeshwar</td>\n",
              "      <td>Lakshmeshwar</td>\n",
              "    </tr>\n",
              "    <tr>\n",
              "      <th>2</th>\n",
              "      <td>Zira</td>\n",
              "      <td>Zira</td>\n",
              "    </tr>\n",
              "    <tr>\n",
              "      <th>3</th>\n",
              "      <td>Yawal</td>\n",
              "      <td>Yawal</td>\n",
              "    </tr>\n",
              "    <tr>\n",
              "      <th>4</th>\n",
              "      <td>Thana Bhawan</td>\n",
              "      <td>Thana Bhawan</td>\n",
              "    </tr>\n",
              "    <tr>\n",
              "      <th>...</th>\n",
              "      <td>...</td>\n",
              "      <td>...</td>\n",
              "    </tr>\n",
              "    <tr>\n",
              "      <th>496</th>\n",
              "      <td>Nandaprayag</td>\n",
              "      <td>Nandaprayag</td>\n",
              "    </tr>\n",
              "    <tr>\n",
              "      <th>497</th>\n",
              "      <td>Kirtinagar</td>\n",
              "      <td>Kirtinagar</td>\n",
              "    </tr>\n",
              "    <tr>\n",
              "      <th>498</th>\n",
              "      <td>Kedarnath</td>\n",
              "      <td>Kedarnath</td>\n",
              "    </tr>\n",
              "    <tr>\n",
              "      <th>499</th>\n",
              "      <td>Gangotri</td>\n",
              "      <td>Gangotri</td>\n",
              "    </tr>\n",
              "    <tr>\n",
              "      <th>500</th>\n",
              "      <td>Kumarganj</td>\n",
              "      <td>Kumarganj</td>\n",
              "    </tr>\n",
              "  </tbody>\n",
              "</table>\n",
              "<p>501 rows × 2 columns</p>\n",
              "</div>"
            ],
            "text/plain": [
              "             City   Covid Cases\n",
              "0        Tuensang      Tuensang\n",
              "1    Lakshmeshwar  Lakshmeshwar\n",
              "2            Zira          Zira\n",
              "3           Yawal         Yawal\n",
              "4    Thana Bhawan  Thana Bhawan\n",
              "..            ...           ...\n",
              "496   Nandaprayag   Nandaprayag\n",
              "497    Kirtinagar    Kirtinagar\n",
              "498     Kedarnath     Kedarnath\n",
              "499      Gangotri      Gangotri\n",
              "500     Kumarganj     Kumarganj\n",
              "\n",
              "[501 rows x 2 columns]"
            ]
          },
          "metadata": {
            "tags": []
          },
          "execution_count": 56
        }
      ]
    },
    {
      "cell_type": "code",
      "metadata": {
        "id": "52ljtijHaXHr",
        "outputId": "4f26061d-aa02-48b6-8c85-163e7b00b5bb",
        "colab": {
          "base_uri": "https://localhost:8080/",
          "height": 195
        }
      },
      "source": [
        "df3.head()"
      ],
      "execution_count": null,
      "outputs": [
        {
          "output_type": "execute_result",
          "data": {
            "text/html": [
              "<div>\n",
              "<style scoped>\n",
              "    .dataframe tbody tr th:only-of-type {\n",
              "        vertical-align: middle;\n",
              "    }\n",
              "\n",
              "    .dataframe tbody tr th {\n",
              "        vertical-align: top;\n",
              "    }\n",
              "\n",
              "    .dataframe thead th {\n",
              "        text-align: right;\n",
              "    }\n",
              "</style>\n",
              "<table border=\"1\" class=\"dataframe\">\n",
              "  <thead>\n",
              "    <tr style=\"text-align: right;\">\n",
              "      <th></th>\n",
              "      <th>City</th>\n",
              "      <th>State</th>\n",
              "      <th>Type</th>\n",
              "      <th>Population [2011]</th>\n",
              "      <th>Sex Ratio</th>\n",
              "      <th>Avg Temp</th>\n",
              "      <th>SWM</th>\n",
              "      <th>Toilets Avl</th>\n",
              "      <th>Water Purity</th>\n",
              "      <th>Female Population</th>\n",
              "      <th># of hospitals</th>\n",
              "      <th>Foreign Visitors</th>\n",
              "    </tr>\n",
              "  </thead>\n",
              "  <tbody>\n",
              "    <tr>\n",
              "      <th>0</th>\n",
              "      <td>Tuensang</td>\n",
              "      <td>31</td>\n",
              "      <td>0</td>\n",
              "      <td>36774.0</td>\n",
              "      <td>931.0</td>\n",
              "      <td>10.0</td>\n",
              "      <td>0</td>\n",
              "      <td>94.0</td>\n",
              "      <td>114.0</td>\n",
              "      <td>34237.0</td>\n",
              "      <td>17.0</td>\n",
              "      <td>2769.0</td>\n",
              "    </tr>\n",
              "    <tr>\n",
              "      <th>1</th>\n",
              "      <td>Lakshmeshwar</td>\n",
              "      <td>2</td>\n",
              "      <td>1</td>\n",
              "      <td>36754.0</td>\n",
              "      <td>934.0</td>\n",
              "      <td>38.0</td>\n",
              "      <td>1</td>\n",
              "      <td>62.0</td>\n",
              "      <td>160.0</td>\n",
              "      <td>34328.0</td>\n",
              "      <td>13.0</td>\n",
              "      <td>636502.0</td>\n",
              "    </tr>\n",
              "    <tr>\n",
              "      <th>2</th>\n",
              "      <td>Zira</td>\n",
              "      <td>13</td>\n",
              "      <td>2</td>\n",
              "      <td>36732.0</td>\n",
              "      <td>883.0</td>\n",
              "      <td>35.0</td>\n",
              "      <td>1</td>\n",
              "      <td>63.0</td>\n",
              "      <td>105.0</td>\n",
              "      <td>32434.0</td>\n",
              "      <td>17.0</td>\n",
              "      <td>242367.0</td>\n",
              "    </tr>\n",
              "    <tr>\n",
              "      <th>3</th>\n",
              "      <td>Yawal</td>\n",
              "      <td>0</td>\n",
              "      <td>2</td>\n",
              "      <td>36706.0</td>\n",
              "      <td>887.0</td>\n",
              "      <td>31.0</td>\n",
              "      <td>1</td>\n",
              "      <td>60.0</td>\n",
              "      <td>174.0</td>\n",
              "      <td>32558.0</td>\n",
              "      <td>11.0</td>\n",
              "      <td>4408916.0</td>\n",
              "    </tr>\n",
              "    <tr>\n",
              "      <th>4</th>\n",
              "      <td>Thana Bhawan</td>\n",
              "      <td>9</td>\n",
              "      <td>3</td>\n",
              "      <td>36669.0</td>\n",
              "      <td>877.0</td>\n",
              "      <td>39.0</td>\n",
              "      <td>2</td>\n",
              "      <td>92.0</td>\n",
              "      <td>153.0</td>\n",
              "      <td>32159.0</td>\n",
              "      <td>23.0</td>\n",
              "      <td>3104060.0</td>\n",
              "    </tr>\n",
              "  </tbody>\n",
              "</table>\n",
              "</div>"
            ],
            "text/plain": [
              "           City State  ...  # of hospitals  Foreign Visitors\n",
              "0      Tuensang    31  ...            17.0            2769.0\n",
              "1  Lakshmeshwar     2  ...            13.0          636502.0\n",
              "2          Zira    13  ...            17.0          242367.0\n",
              "3         Yawal     0  ...            11.0         4408916.0\n",
              "4  Thana Bhawan     9  ...            23.0         3104060.0\n",
              "\n",
              "[5 rows x 12 columns]"
            ]
          },
          "metadata": {
            "tags": []
          },
          "execution_count": 57
        }
      ]
    },
    {
      "cell_type": "code",
      "metadata": {
        "id": "tFdbgIKqaceX"
      },
      "source": [
        "df3 = df3.drop(['City'], axis = 1)"
      ],
      "execution_count": null,
      "outputs": []
    },
    {
      "cell_type": "code",
      "metadata": {
        "id": "3kImWwePauzW",
        "outputId": "8d9b83fe-1adf-4d59-fb4d-1ec8f3d791a2",
        "colab": {
          "base_uri": "https://localhost:8080/",
          "height": 195
        }
      },
      "source": [
        "df3.head()"
      ],
      "execution_count": null,
      "outputs": [
        {
          "output_type": "execute_result",
          "data": {
            "text/html": [
              "<div>\n",
              "<style scoped>\n",
              "    .dataframe tbody tr th:only-of-type {\n",
              "        vertical-align: middle;\n",
              "    }\n",
              "\n",
              "    .dataframe tbody tr th {\n",
              "        vertical-align: top;\n",
              "    }\n",
              "\n",
              "    .dataframe thead th {\n",
              "        text-align: right;\n",
              "    }\n",
              "</style>\n",
              "<table border=\"1\" class=\"dataframe\">\n",
              "  <thead>\n",
              "    <tr style=\"text-align: right;\">\n",
              "      <th></th>\n",
              "      <th>State</th>\n",
              "      <th>Type</th>\n",
              "      <th>Population [2011]</th>\n",
              "      <th>Sex Ratio</th>\n",
              "      <th>Avg Temp</th>\n",
              "      <th>SWM</th>\n",
              "      <th>Toilets Avl</th>\n",
              "      <th>Water Purity</th>\n",
              "      <th>Female Population</th>\n",
              "      <th># of hospitals</th>\n",
              "      <th>Foreign Visitors</th>\n",
              "    </tr>\n",
              "  </thead>\n",
              "  <tbody>\n",
              "    <tr>\n",
              "      <th>0</th>\n",
              "      <td>31</td>\n",
              "      <td>0</td>\n",
              "      <td>36774.0</td>\n",
              "      <td>931.0</td>\n",
              "      <td>10.0</td>\n",
              "      <td>0</td>\n",
              "      <td>94.0</td>\n",
              "      <td>114.0</td>\n",
              "      <td>34237.0</td>\n",
              "      <td>17.0</td>\n",
              "      <td>2769.0</td>\n",
              "    </tr>\n",
              "    <tr>\n",
              "      <th>1</th>\n",
              "      <td>2</td>\n",
              "      <td>1</td>\n",
              "      <td>36754.0</td>\n",
              "      <td>934.0</td>\n",
              "      <td>38.0</td>\n",
              "      <td>1</td>\n",
              "      <td>62.0</td>\n",
              "      <td>160.0</td>\n",
              "      <td>34328.0</td>\n",
              "      <td>13.0</td>\n",
              "      <td>636502.0</td>\n",
              "    </tr>\n",
              "    <tr>\n",
              "      <th>2</th>\n",
              "      <td>13</td>\n",
              "      <td>2</td>\n",
              "      <td>36732.0</td>\n",
              "      <td>883.0</td>\n",
              "      <td>35.0</td>\n",
              "      <td>1</td>\n",
              "      <td>63.0</td>\n",
              "      <td>105.0</td>\n",
              "      <td>32434.0</td>\n",
              "      <td>17.0</td>\n",
              "      <td>242367.0</td>\n",
              "    </tr>\n",
              "    <tr>\n",
              "      <th>3</th>\n",
              "      <td>0</td>\n",
              "      <td>2</td>\n",
              "      <td>36706.0</td>\n",
              "      <td>887.0</td>\n",
              "      <td>31.0</td>\n",
              "      <td>1</td>\n",
              "      <td>60.0</td>\n",
              "      <td>174.0</td>\n",
              "      <td>32558.0</td>\n",
              "      <td>11.0</td>\n",
              "      <td>4408916.0</td>\n",
              "    </tr>\n",
              "    <tr>\n",
              "      <th>4</th>\n",
              "      <td>9</td>\n",
              "      <td>3</td>\n",
              "      <td>36669.0</td>\n",
              "      <td>877.0</td>\n",
              "      <td>39.0</td>\n",
              "      <td>2</td>\n",
              "      <td>92.0</td>\n",
              "      <td>153.0</td>\n",
              "      <td>32159.0</td>\n",
              "      <td>23.0</td>\n",
              "      <td>3104060.0</td>\n",
              "    </tr>\n",
              "  </tbody>\n",
              "</table>\n",
              "</div>"
            ],
            "text/plain": [
              "  State  Type  ...  # of hospitals  Foreign Visitors\n",
              "0    31     0  ...            17.0            2769.0\n",
              "1     2     1  ...            13.0          636502.0\n",
              "2    13     2  ...            17.0          242367.0\n",
              "3     0     2  ...            11.0         4408916.0\n",
              "4     9     3  ...            23.0         3104060.0\n",
              "\n",
              "[5 rows x 11 columns]"
            ]
          },
          "metadata": {
            "tags": []
          },
          "execution_count": 60
        }
      ]
    },
    {
      "cell_type": "code",
      "metadata": {
        "id": "ZZzHOH9faxmR",
        "outputId": "6d51ce9f-2d58-4c10-bab3-34d338455e44",
        "colab": {
          "base_uri": "https://localhost:8080/",
          "height": 195
        }
      },
      "source": [
        "#normalise train dataset\n",
        "mm_scaler = preprocessing.MinMaxScaler()\n",
        "Train_minmax = mm_scaler.fit_transform(df3)\n",
        "X=pd.DataFrame(Train_minmax)\n",
        "X.head()"
      ],
      "execution_count": null,
      "outputs": [
        {
          "output_type": "execute_result",
          "data": {
            "text/html": [
              "<div>\n",
              "<style scoped>\n",
              "    .dataframe tbody tr th:only-of-type {\n",
              "        vertical-align: middle;\n",
              "    }\n",
              "\n",
              "    .dataframe tbody tr th {\n",
              "        vertical-align: top;\n",
              "    }\n",
              "\n",
              "    .dataframe thead th {\n",
              "        text-align: right;\n",
              "    }\n",
              "</style>\n",
              "<table border=\"1\" class=\"dataframe\">\n",
              "  <thead>\n",
              "    <tr style=\"text-align: right;\">\n",
              "      <th></th>\n",
              "      <th>0</th>\n",
              "      <th>1</th>\n",
              "      <th>2</th>\n",
              "      <th>3</th>\n",
              "      <th>4</th>\n",
              "      <th>5</th>\n",
              "      <th>6</th>\n",
              "      <th>7</th>\n",
              "      <th>8</th>\n",
              "      <th>9</th>\n",
              "      <th>10</th>\n",
              "    </tr>\n",
              "  </thead>\n",
              "  <tbody>\n",
              "    <tr>\n",
              "      <th>0</th>\n",
              "      <td>0.911765</td>\n",
              "      <td>0.0000</td>\n",
              "      <td>1.000000</td>\n",
              "      <td>0.723502</td>\n",
              "      <td>0.142857</td>\n",
              "      <td>0.0</td>\n",
              "      <td>0.933333</td>\n",
              "      <td>0.14</td>\n",
              "      <td>0.991315</td>\n",
              "      <td>0.518519</td>\n",
              "      <td>0.000421</td>\n",
              "    </tr>\n",
              "    <tr>\n",
              "      <th>1</th>\n",
              "      <td>0.058824</td>\n",
              "      <td>0.0625</td>\n",
              "      <td>0.999455</td>\n",
              "      <td>0.737327</td>\n",
              "      <td>0.942857</td>\n",
              "      <td>0.5</td>\n",
              "      <td>0.577778</td>\n",
              "      <td>0.60</td>\n",
              "      <td>0.993950</td>\n",
              "      <td>0.370370</td>\n",
              "      <td>0.135721</td>\n",
              "    </tr>\n",
              "    <tr>\n",
              "      <th>2</th>\n",
              "      <td>0.382353</td>\n",
              "      <td>0.1250</td>\n",
              "      <td>0.998854</td>\n",
              "      <td>0.502304</td>\n",
              "      <td>0.857143</td>\n",
              "      <td>0.5</td>\n",
              "      <td>0.588889</td>\n",
              "      <td>0.05</td>\n",
              "      <td>0.939110</td>\n",
              "      <td>0.518519</td>\n",
              "      <td>0.051574</td>\n",
              "    </tr>\n",
              "    <tr>\n",
              "      <th>3</th>\n",
              "      <td>0.000000</td>\n",
              "      <td>0.1250</td>\n",
              "      <td>0.998145</td>\n",
              "      <td>0.520737</td>\n",
              "      <td>0.742857</td>\n",
              "      <td>0.5</td>\n",
              "      <td>0.555556</td>\n",
              "      <td>0.74</td>\n",
              "      <td>0.942700</td>\n",
              "      <td>0.296296</td>\n",
              "      <td>0.941119</td>\n",
              "    </tr>\n",
              "    <tr>\n",
              "      <th>4</th>\n",
              "      <td>0.264706</td>\n",
              "      <td>0.1875</td>\n",
              "      <td>0.997136</td>\n",
              "      <td>0.474654</td>\n",
              "      <td>0.971429</td>\n",
              "      <td>1.0</td>\n",
              "      <td>0.911111</td>\n",
              "      <td>0.53</td>\n",
              "      <td>0.931147</td>\n",
              "      <td>0.740741</td>\n",
              "      <td>0.662537</td>\n",
              "    </tr>\n",
              "  </tbody>\n",
              "</table>\n",
              "</div>"
            ],
            "text/plain": [
              "         0       1         2         3   ...    7         8         9         10\n",
              "0  0.911765  0.0000  1.000000  0.723502  ...  0.14  0.991315  0.518519  0.000421\n",
              "1  0.058824  0.0625  0.999455  0.737327  ...  0.60  0.993950  0.370370  0.135721\n",
              "2  0.382353  0.1250  0.998854  0.502304  ...  0.05  0.939110  0.518519  0.051574\n",
              "3  0.000000  0.1250  0.998145  0.520737  ...  0.74  0.942700  0.296296  0.941119\n",
              "4  0.264706  0.1875  0.997136  0.474654  ...  0.53  0.931147  0.740741  0.662537\n",
              "\n",
              "[5 rows x 11 columns]"
            ]
          },
          "metadata": {
            "tags": []
          },
          "execution_count": 61
        }
      ]
    },
    {
      "cell_type": "markdown",
      "metadata": {
        "id": "vLcFjv0mPszl"
      },
      "source": [
        "# Generate Predictions on Test Data"
      ]
    },
    {
      "cell_type": "code",
      "metadata": {
        "id": "wq_VsT9BbEUs"
      },
      "source": [
        "y_hat = model_xgb.predict(X)"
      ],
      "execution_count": null,
      "outputs": []
    },
    {
      "cell_type": "code",
      "metadata": {
        "id": "SCSmB6n4bNvS",
        "outputId": "37a2f849-9c28-4117-e1e5-72a698277a10",
        "colab": {
          "base_uri": "https://localhost:8080/",
          "height": 1000
        }
      },
      "source": [
        "y_hat"
      ],
      "execution_count": null,
      "outputs": [
        {
          "output_type": "execute_result",
          "data": {
            "text/plain": [
              "array([11837.783 , 11138.763 , 12099.244 ,  8445.024 ,  8939.292 ,\n",
              "       10071.333 ,  7745.8823,  9968.914 , 10949.519 ,  9493.382 ,\n",
              "       11976.748 ,  9701.191 , 11067.919 , 10127.732 ,  8483.809 ,\n",
              "       10035.629 ,  8459.181 ,  9552.088 ,  9233.496 , 10072.556 ,\n",
              "       10615.38  , 10078.244 ,  9824.984 ,  7858.6074, 10248.742 ,\n",
              "       12397.831 ,  9420.11  ,  8370.412 , 10234.728 ,  8861.044 ,\n",
              "       11289.148 , 12164.542 , 11729.312 ,  9472.382 ,  9777.609 ,\n",
              "       10648.96  ,  9377.188 , 12493.245 ,  9225.817 ,  9544.413 ,\n",
              "       11549.847 ,  7815.4204, 12417.738 ,  9134.791 ,  8921.1875,\n",
              "       10899.613 , 10299.038 , 11221.6875, 11886.485 ,  9032.678 ,\n",
              "       12354.401 , 10716.527 , 11376.038 , 12207.154 , 10930.784 ,\n",
              "        8891.007 , 10569.609 , 13142.384 , 10378.319 , 11699.657 ,\n",
              "       11597.241 ,  7923.82  , 10401.87  , 13195.68  ,  9545.7295,\n",
              "        9694.917 ,  9292.669 ,  7186.752 ,  9627.111 ,  9903.873 ,\n",
              "       11413.307 ,  7926.365 ,  9724.755 , 11460.368 , 10194.89  ,\n",
              "       11131.287 , 11480.739 , 10430.462 , 12386.52  , 10982.046 ,\n",
              "        8243.14  , 10592.864 , 11057.62  , 11257.593 , 10043.665 ,\n",
              "       10287.895 ,  9232.74  ,  8600.99  , 10655.39  , 10931.031 ,\n",
              "        9259.04  , 11322.253 ,  9121.22  , 11494.439 , 10015.247 ,\n",
              "        9211.388 ,  9172.784 ,  9638.915 , 10940.506 ,  8989.392 ,\n",
              "       10174.808 , 10984.285 ,  9573.107 ,  9729.137 , 12777.764 ,\n",
              "        8159.1777, 11392.73  , 11511.897 , 12303.224 , 11857.792 ,\n",
              "        8483.113 , 12376.78  , 10001.111 ,  9790.129 ,  8624.203 ,\n",
              "        8268.478 , 10063.29  , 12695.989 ,  9922.3545, 11546.572 ,\n",
              "       13162.557 , 11479.252 , 12800.074 ,  8836.196 , 11041.206 ,\n",
              "       10737.367 ,  9732.245 , 11355.372 , 11480.573 ,  9160.68  ,\n",
              "        9036.686 , 10092.487 ,  9489.433 ,  8823.969 ,  9818.247 ,\n",
              "       10730.801 ,  9458.942 , 12196.32  , 10776.3955, 10051.453 ,\n",
              "       11425.999 , 10196.509 , 10582.887 , 11083.768 , 11675.864 ,\n",
              "        9111.919 ,  9221.992 ,  9810.572 , 10441.899 , 13848.53  ,\n",
              "       11033.029 , 10827.488 ,  9799.797 , 13077.208 ,  9960.391 ,\n",
              "        8950.836 , 12087.755 , 11006.184 , 12177.991 , 11183.209 ,\n",
              "       11065.633 , 12378.375 , 10954.124 , 10987.601 ,  9701.619 ,\n",
              "        9026.579 , 11779.628 , 12572.84  ,  9399.309 ,  9391.589 ,\n",
              "       11520.239 ,  7675.8984, 11298.461 ,  9443.498 ,  6535.0894,\n",
              "       11291.666 , 11007.013 , 11198.584 ,  9466.269 , 12370.234 ,\n",
              "       12033.7295,  8153.129 , 11270.468 ,  7992.685 , 12031.492 ,\n",
              "       12559.032 ,  8315.23  , 12180.244 ,  9479.623 ,  9531.853 ,\n",
              "       11269.746 , 12882.526 , 10670.082 ,  7495.    , 11207.922 ,\n",
              "        9682.586 , 13329.413 , 11100.539 , 12023.397 , 10114.093 ,\n",
              "       11628.288 ,  8737.223 , 12969.845 , 11929.954 , 12490.462 ,\n",
              "       11491.065 ,  9633.742 ,  8820.917 ,  8020.268 , 10928.843 ,\n",
              "       10014.43  ,  8540.794 ,  7103.3057,  9921.253 ,  9396.334 ,\n",
              "       10009.492 ,  8735.785 ,  6700.81  , 12862.967 , 12130.398 ,\n",
              "       12007.699 ,  9849.346 ,  8235.151 , 11854.171 , 11041.318 ,\n",
              "       11656.402 ,  9926.403 , 10775.464 ,  9894.556 ,  9553.458 ,\n",
              "       10176.223 , 12418.254 , 10188.513 , 10209.733 , 11808.989 ,\n",
              "       11380.901 , 12813.15  ,  8330.087 , 12279.927 , 10694.329 ,\n",
              "        7299.6396, 10528.504 , 11147.022 , 10773.5   ,  9325.513 ,\n",
              "        9812.998 , 10166.709 ,  8220.    , 11323.115 , 10411.979 ,\n",
              "       10660.185 ,  9407.301 , 11972.592 , 11035.022 ,  9715.256 ,\n",
              "        8900.011 , 10291.1455, 10754.186 , 10779.3545, 11663.891 ,\n",
              "       12385.933 , 11707.375 , 10070.027 , 12258.56  , 11812.986 ,\n",
              "       10410.967 , 11284.07  , 10513.992 , 10450.277 , 10942.363 ,\n",
              "       10571.964 , 10087.049 , 11670.66  , 11059.17  ,  9401.366 ,\n",
              "       10363.731 , 10452.62  ,  8240.523 , 10772.156 , 11361.8955,\n",
              "        9731.782 , 10984.416 ,  9177.638 , 11784.531 , 10580.275 ,\n",
              "        9386.542 , 11504.991 , 12430.822 , 11984.728 , 10958.792 ,\n",
              "        9540.68  , 10280.374 ,  9652.625 ,  8139.9854,  8525.084 ,\n",
              "        7328.4473, 10170.85  , 11355.909 , 13845.497 ,  8851.384 ,\n",
              "       11718.524 , 11722.432 ,  7838.29  ,  6915.4053, 10362.516 ,\n",
              "       12542.743 , 10897.331 , 11833.61  , 12291.887 , 11136.785 ,\n",
              "        7544.55  , 11188.1875, 10371.68  ,  9723.789 , 11553.891 ,\n",
              "       10230.283 ,  7905.637 , 11038.7   , 10424.635 , 10414.972 ,\n",
              "       12276.18  ,  7381.234 , 11143.753 , 10879.701 , 10196.066 ,\n",
              "        9639.709 , 11538.323 , 10946.827 ,  9836.539 ,  9910.013 ,\n",
              "       12696.605 ,  8028.69  , 10831.465 , 11503.325 , 10498.951 ,\n",
              "        8793.528 , 11327.666 , 10706.244 ,  8416.317 ,  9047.75  ,\n",
              "        9388.308 , 10715.522 ,  7500.0464, 10184.507 , 11001.389 ,\n",
              "       10548.642 , 12245.517 , 11293.502 , 11673.861 , 12157.318 ,\n",
              "        8463.218 , 11588.301 , 11787.367 , 10330.506 , 12624.546 ,\n",
              "       10223.668 , 10409.484 , 10472.545 ,  9009.167 , 10641.548 ,\n",
              "        8033.227 , 11670.97  ,  9380.827 , 11796.594 , 10207.481 ,\n",
              "        9200.092 , 11385.222 ,  8771.432 ,  9025.541 ,  9189.849 ,\n",
              "        8590.837 ,  8288.887 , 11810.293 ,  9465.506 ,  9997.986 ,\n",
              "       10916.897 ,  9790.869 ,  9791.1875, 10371.207 ,  9412.943 ,\n",
              "       11933.165 ,  9361.209 ,  9785.114 , 10632.155 ,  7814.414 ,\n",
              "        6744.8213,  8570.757 ,  7548.882 ,  8065.517 , 10378.716 ,\n",
              "       10168.863 , 12003.438 ,  8122.301 , 11195.773 ,  8869.193 ,\n",
              "        8791.673 , 11774.008 , 10240.621 , 11596.178 , 12848.588 ,\n",
              "        9330.283 , 10878.668 , 11010.04  ,  9990.232 , 10249.307 ,\n",
              "        7752.6133,  9152.844 , 11511.556 , 10055.593 , 11706.066 ,\n",
              "        8329.588 ,  9642.704 , 10891.51  ,  9760.751 , 10592.25  ,\n",
              "        8828.9795,  8673.06  ,  9326.173 , 12248.679 , 11258.517 ,\n",
              "        8432.549 ,  8133.406 ,  8818.917 ,  8996.22  , 12277.107 ,\n",
              "       10791.733 , 11922.015 ,  7768.342 , 10670.037 , 11311.356 ,\n",
              "        8155.6553,  8561.349 , 10078.076 , 11279.682 ,  8551.734 ,\n",
              "       11354.288 ,  8317.773 , 10621.599 , 11804.521 ,  9495.972 ,\n",
              "        6411.4434,  8775.483 ,  7566.648 ,  9570.348 , 10096.143 ,\n",
              "        8315.54  ,  8897.682 ,  7148.9873,  6465.24  ,  5215.887 ,\n",
              "        6729.8677,  5516.709 ,  6310.6626,  7262.8027,  4926.0083,\n",
              "        7422.5693,  6148.0933,  6449.3623,  5589.1694,  8188.2827,\n",
              "        6908.127 ,  5406.2534,  5303.846 ,  5646.17  ,  5832.048 ,\n",
              "        5316.9717,  5745.8853,  5658.191 ,  6240.2036,  4521.0923,\n",
              "        6535.135 ,  7444.045 ,  7734.085 ,  7588.2583,  7045.865 ,\n",
              "        8737.417 ,  7237.7505,  8738.06  ,  5332.734 ,  6733.2617,\n",
              "        5134.7827,  4287.7573,  5092.614 ,  3693.6648,  5912.8735,\n",
              "        5573.135 ,  5624.554 ,  4684.49  ,  4702.1045,  4340.038 ,\n",
              "        3891.5898,  3474.1157,  4651.867 ,  4609.957 ,  3891.7454,\n",
              "        4234.9585,  4883.837 ,  5051.7246,  2468.54  ,  2510.5886,\n",
              "        4909.0093], dtype=float32)"
            ]
          },
          "metadata": {
            "tags": []
          },
          "execution_count": 63
        }
      ]
    },
    {
      "cell_type": "code",
      "metadata": {
        "id": "ggB2VLBIbPmp"
      },
      "source": [
        "Cities[\"Covid Cases\"] = y_hat"
      ],
      "execution_count": null,
      "outputs": []
    },
    {
      "cell_type": "code",
      "metadata": {
        "id": "MIp5oIScbbm_"
      },
      "source": [
        "#FINAL RESULT FOR PART 1\n",
        "Cities.to_csv(\"part1.csv\")"
      ],
      "execution_count": null,
      "outputs": []
    },
    {
      "cell_type": "code",
      "metadata": {
        "id": "gpqDFfsObefX",
        "outputId": "85bf49aa-3700-4060-9d67-eb7c4accacec",
        "colab": {
          "base_uri": "https://localhost:8080/",
          "height": 402
        }
      },
      "source": [
        "df3"
      ],
      "execution_count": null,
      "outputs": [
        {
          "output_type": "execute_result",
          "data": {
            "text/html": [
              "<div>\n",
              "<style scoped>\n",
              "    .dataframe tbody tr th:only-of-type {\n",
              "        vertical-align: middle;\n",
              "    }\n",
              "\n",
              "    .dataframe tbody tr th {\n",
              "        vertical-align: top;\n",
              "    }\n",
              "\n",
              "    .dataframe thead th {\n",
              "        text-align: right;\n",
              "    }\n",
              "</style>\n",
              "<table border=\"1\" class=\"dataframe\">\n",
              "  <thead>\n",
              "    <tr style=\"text-align: right;\">\n",
              "      <th></th>\n",
              "      <th>State</th>\n",
              "      <th>Type</th>\n",
              "      <th>Population [2011]</th>\n",
              "      <th>Sex Ratio</th>\n",
              "      <th>Avg Temp</th>\n",
              "      <th>SWM</th>\n",
              "      <th>Toilets Avl</th>\n",
              "      <th>Water Purity</th>\n",
              "      <th>Female Population</th>\n",
              "      <th># of hospitals</th>\n",
              "      <th>Foreign Visitors</th>\n",
              "    </tr>\n",
              "  </thead>\n",
              "  <tbody>\n",
              "    <tr>\n",
              "      <th>0</th>\n",
              "      <td>31</td>\n",
              "      <td>0</td>\n",
              "      <td>36774.000000</td>\n",
              "      <td>931.0</td>\n",
              "      <td>10.0</td>\n",
              "      <td>0</td>\n",
              "      <td>94.0</td>\n",
              "      <td>114.0</td>\n",
              "      <td>34237.0</td>\n",
              "      <td>17.0</td>\n",
              "      <td>2769.0</td>\n",
              "    </tr>\n",
              "    <tr>\n",
              "      <th>1</th>\n",
              "      <td>2</td>\n",
              "      <td>1</td>\n",
              "      <td>36754.000000</td>\n",
              "      <td>934.0</td>\n",
              "      <td>38.0</td>\n",
              "      <td>1</td>\n",
              "      <td>62.0</td>\n",
              "      <td>160.0</td>\n",
              "      <td>34328.0</td>\n",
              "      <td>13.0</td>\n",
              "      <td>636502.0</td>\n",
              "    </tr>\n",
              "    <tr>\n",
              "      <th>2</th>\n",
              "      <td>13</td>\n",
              "      <td>2</td>\n",
              "      <td>36732.000000</td>\n",
              "      <td>883.0</td>\n",
              "      <td>35.0</td>\n",
              "      <td>1</td>\n",
              "      <td>63.0</td>\n",
              "      <td>105.0</td>\n",
              "      <td>32434.0</td>\n",
              "      <td>17.0</td>\n",
              "      <td>242367.0</td>\n",
              "    </tr>\n",
              "    <tr>\n",
              "      <th>3</th>\n",
              "      <td>0</td>\n",
              "      <td>2</td>\n",
              "      <td>36706.000000</td>\n",
              "      <td>887.0</td>\n",
              "      <td>31.0</td>\n",
              "      <td>1</td>\n",
              "      <td>60.0</td>\n",
              "      <td>174.0</td>\n",
              "      <td>32558.0</td>\n",
              "      <td>11.0</td>\n",
              "      <td>4408916.0</td>\n",
              "    </tr>\n",
              "    <tr>\n",
              "      <th>4</th>\n",
              "      <td>9</td>\n",
              "      <td>3</td>\n",
              "      <td>36669.000000</td>\n",
              "      <td>877.0</td>\n",
              "      <td>39.0</td>\n",
              "      <td>2</td>\n",
              "      <td>92.0</td>\n",
              "      <td>153.0</td>\n",
              "      <td>32159.0</td>\n",
              "      <td>23.0</td>\n",
              "      <td>3104060.0</td>\n",
              "    </tr>\n",
              "    <tr>\n",
              "      <th>...</th>\n",
              "      <td>...</td>\n",
              "      <td>...</td>\n",
              "      <td>...</td>\n",
              "      <td>...</td>\n",
              "      <td>...</td>\n",
              "      <td>...</td>\n",
              "      <td>...</td>\n",
              "      <td>...</td>\n",
              "      <td>...</td>\n",
              "      <td>...</td>\n",
              "      <td>...</td>\n",
              "    </tr>\n",
              "    <tr>\n",
              "      <th>496</th>\n",
              "      <td>22</td>\n",
              "      <td>3</td>\n",
              "      <td>1641.000000</td>\n",
              "      <td>848.0</td>\n",
              "      <td>7.0</td>\n",
              "      <td>0</td>\n",
              "      <td>12.0</td>\n",
              "      <td>181.0</td>\n",
              "      <td>1392.0</td>\n",
              "      <td>4.0</td>\n",
              "      <td>105882.0</td>\n",
              "    </tr>\n",
              "    <tr>\n",
              "      <th>497</th>\n",
              "      <td>22</td>\n",
              "      <td>3</td>\n",
              "      <td>1517.000000</td>\n",
              "      <td>852.0</td>\n",
              "      <td>12.0</td>\n",
              "      <td>1</td>\n",
              "      <td>16.0</td>\n",
              "      <td>198.0</td>\n",
              "      <td>1292.0</td>\n",
              "      <td>6.0</td>\n",
              "      <td>105882.0</td>\n",
              "    </tr>\n",
              "    <tr>\n",
              "      <th>498</th>\n",
              "      <td>22</td>\n",
              "      <td>3</td>\n",
              "      <td>612.000000</td>\n",
              "      <td>853.0</td>\n",
              "      <td>9.0</td>\n",
              "      <td>2</td>\n",
              "      <td>19.0</td>\n",
              "      <td>189.0</td>\n",
              "      <td>522.0</td>\n",
              "      <td>6.0</td>\n",
              "      <td>105882.0</td>\n",
              "    </tr>\n",
              "    <tr>\n",
              "      <th>499</th>\n",
              "      <td>22</td>\n",
              "      <td>3</td>\n",
              "      <td>110.000000</td>\n",
              "      <td>852.0</td>\n",
              "      <td>8.0</td>\n",
              "      <td>0</td>\n",
              "      <td>18.0</td>\n",
              "      <td>170.0</td>\n",
              "      <td>94.0</td>\n",
              "      <td>8.0</td>\n",
              "      <td>105882.0</td>\n",
              "    </tr>\n",
              "    <tr>\n",
              "      <th>500</th>\n",
              "      <td>9</td>\n",
              "      <td>7</td>\n",
              "      <td>24747.468687</td>\n",
              "      <td>863.0</td>\n",
              "      <td>35.0</td>\n",
              "      <td>1</td>\n",
              "      <td>19.0</td>\n",
              "      <td>149.0</td>\n",
              "      <td>0.0</td>\n",
              "      <td>6.0</td>\n",
              "      <td>3104060.0</td>\n",
              "    </tr>\n",
              "  </tbody>\n",
              "</table>\n",
              "<p>501 rows × 11 columns</p>\n",
              "</div>"
            ],
            "text/plain": [
              "    State  Type  ...  # of hospitals  Foreign Visitors\n",
              "0      31     0  ...            17.0            2769.0\n",
              "1       2     1  ...            13.0          636502.0\n",
              "2      13     2  ...            17.0          242367.0\n",
              "3       0     2  ...            11.0         4408916.0\n",
              "4       9     3  ...            23.0         3104060.0\n",
              "..    ...   ...  ...             ...               ...\n",
              "496    22     3  ...             4.0          105882.0\n",
              "497    22     3  ...             6.0          105882.0\n",
              "498    22     3  ...             6.0          105882.0\n",
              "499    22     3  ...             8.0          105882.0\n",
              "500     9     7  ...             6.0         3104060.0\n",
              "\n",
              "[501 rows x 11 columns]"
            ]
          },
          "metadata": {
            "tags": []
          },
          "execution_count": 66
        }
      ]
    },
    {
      "cell_type": "code",
      "metadata": {
        "id": "3v9LqIMfd-cn"
      },
      "source": [
        "df3['Foreign Visitors'] = [2647 ,640376 ,231905 ,4435383 ,3123071 ,640376 ,4429628 ,120844 ,610297 ,1479325 ,1498583 ,4435383 ,5430 ,160572 ,4435383 640376 ,640376 ,422791 ,422321 ,227592 ,610297 ,\n",
        "1483191 ,56027 ,4435383 ,1483191 ,640376 ,4712612 ,3123071 ,2647 ,274875 ,638954 ,1481130 ,1483191 ,4435383 ,\n",
        "4435383 ,\n",
        "231905 ,\n",
        "3123071 ,\n",
        "1483191 ,\n",
        "422791 ,\n",
        "1483191 ,\n",
        "4712612 ,\n",
        "4435383 ,\n",
        "388541 ,\n",
        "285548 ,\n",
        "101309 ,\n",
        "422791 ,\n",
        "925756 ,\n",
        "927164 ,\n",
        "405451 ,\n",
        "4425377 ,\n",
        "161330 ,\n",
        "161330 ,\n",
        "978925 ,\n",
        "64380 ,\n",
        "285548 ,\n",
        "227592 ,\n",
        "3123071 ,\n",
        "925756 ,\n",
        "120632 ,\n",
        "4712612 ,\n",
        "1483191 ,\n",
        "4435383 ,\n",
        "303910 ,\n",
        "925756 ,\n",
        "982921 ,\n",
        "3121397 ,\n",
        "159820 ,\n",
        "4436826 ,\n",
        "3121397 ,\n",
        "401506 ,\n",
        "401506 ,\n",
        "3121397 ,\n",
        "3121397 ,\n",
        "120632 ,\n",
        "303910 ,\n",
        "33375 ,\n",
        "1483191 ,\n",
        "4712612 ,\n",
        "1483191 ,\n",
        "227967 ,\n",
        "4429628 ,\n",
        "927089 ,\n",
        "610297 ,\n",
        "610297 ,\n",
        "4496020 ,\n",
        "272947 ,\n",
        "272947 ,\n",
        "120844 ,\n",
        "3119985 ,\n",
        "6127 ,\n",
        "404080 ,\n",
        "982892 ,\n",
        "404080 ,\n",
        "404080 ,\n",
        "3123071 ,\n",
        "4712612 ,\n",
        "285548 ,\n",
        "4712612 ,\n",
        "3123071 ,\n",
        "160572 ,\n",
        "1483191 ,\n",
        "4712612 ,\n",
        "4435383 ,\n",
        "3123071 ,\n",
        "640376 ,\n",
        "4435383 ,\n",
        "6116 ,\n",
        "640376 ,\n",
        "640376 ,\n",
        "1483191 ,\n",
        "4712612 ,\n",
        "925756 ,\n",
        "23649 ,\n",
        "4712612 ,\n",
        "64062 ,\n",
        "4435383 ,\n",
        "2647 ,\n",
        "1498583 ,\n",
        "1483191 ,\n",
        "1483191 ,\n",
        "1494894 ,\n",
        "638154 ,\n",
        "33375 ,\n",
        "285548 ,\n",
        "6116 ,\n",
        "227592 ,\n",
        "4435383 ,\n",
        "4712612 ,\n",
        "4712612 ,\n",
        "4435383 ,\n",
        "101309 ,\n",
        "925756 ,\n",
        "925756 ,\n",
        "4712612 ,\n",
        "4712612 ,\n",
        "422791 ,\n",
        "101309 ,\n",
        "64062 ,\n",
        "640376 ,\n",
        "303910 ,\n",
        "422791 ,\n",
        "4435383 ,\n",
        "285548 ,\n",
        "227592 ,\n",
        "1483191 ,\n",
        "422791 ,\n",
        "227592 ,\n",
        "4712612 ,\n",
        "4712612 ,\n",
        "983397 ,\n",
        "3123071 ,\n",
        "1483191 ,\n",
        "4435383 ,\n",
        "983397 ,\n",
        "4712612 ,\n",
        "4419446 ,\n",
        "406947 ,\n",
        "3123071 ,\n",
        "303910 ,\n",
        "101309 ,\n",
        "23649 ,\n",
        "7678 ,\n",
        "983397 ,\n",
        "1483191 ,\n",
        "1483191 ,\n",
        "983397 ,\n",
        "1483191 ,\n",
        "1483191 ,\n",
        "3123071 ,\n",
        "3123071 ,\n",
        "640376 ,\n",
        "3123071 ,\n",
        "1483191 ,\n",
        "4712612 ,\n",
        "4435383 ,\n",
        "640376 ,\n",
        "285548 ,\n",
        "285548 ,\n",
        "285548 ,\n",
        "983397 ,\n",
        "23649 ,\n",
        "274875 ,\n",
        "638954 ,\n",
        "4420040 ,\n",
        "64596 ,\n",
        "1481130 ,\n",
        "274875 ,\n",
        "102121 ,\n",
        "1481130 ,\n",
        "638954 ,\n",
        "638954 ,\n",
        "303910 ,\n",
        "285548 ,\n",
        "3123071 ,\n",
        "303910 ,\n",
        "4435383 ,\n",
        "925756 ,\n",
        "4712612 ,\n",
        "1483191 ,\n",
        "1498583 ,\n",
        "983397 ,\n",
        "3123071 ,\n",
        "925756 ,\n",
        "1498583 ,\n",
        "1498583 ,\n",
        "640376 ,\n",
        "640376 ,\n",
        "4435383 ,\n",
        "285548 ,\n",
        "4712612 ,\n",
        "33375 ,\n",
        "120632 ,\n",
        "4435383 ,\n",
        "4435383 ,\n",
        "3123071 ,\n",
        "3123071 ,\n",
        "4712612 ,\n",
        "4435383 ,\n",
        "983397 ,\n",
        "640376 ,\n",
        "1483191 ,\n",
        "4435383 ,\n",
        "4435383 ,\n",
        "640376 ,\n",
        "640376 ,\n",
        "422791 ,\n",
        "4435383 ,\n",
        "3123071 ,\n",
        "640376 ,\n",
        "4435383 ,\n",
        "4712612 ,\n",
        "303910 ,\n",
        "4435383 ,\n",
        "4712612 ,\n",
        "1498583 ,\n",
        "422791 ,\n",
        "1483191 ,\n",
        "4435383 ,\n",
        "925756 ,\n",
        "640376 ,\n",
        "4435383 ,\n",
        "1483191 ,\n",
        "285548 ,\n",
        "4712612 ,\n",
        "101309 ,\n",
        "4712612 ,\n",
        "4712612 ,\n",
        "422791 ,\n",
        "101309 ,\n",
        "3123071 ,\n",
        "285548 ,\n",
        "422791 ,\n",
        "422791 ,\n",
        "4712612 ,\n",
        "4435383 ,\n",
        "23649 ,\n",
        "3123071 ,\n",
        "422791 ,\n",
        "640376 ,\n",
        "1479881 ,\n",
        "926283 ,\n",
        "405316 ,\n",
        "3113824 ,\n",
        "1479881 ,\n",
        "232996 ,\n",
        "3113824 ,\n",
        "640376 ,\n",
        "3123071 ,\n",
        "925756 ,\n",
        "3123071 ,\n",
        "1483191 ,\n",
        "4712612 ,\n",
        "640376 ,\n",
        "4712612 ,\n",
        "303910 ,\n",
        "422791 ,\n",
        "4712612 ,\n",
        "4435383 ,\n",
        "160572 ,\n",
        "983397 ,\n",
        "3123071 ,\n",
        "23649 ,\n",
        "101309 ,\n",
        "388541 ,\n",
        "422791 ,\n",
        "23649 ,\n",
        "227592 ,\n",
        "231905 ,\n",
        "303910 ,\n",
        "4712612 ,\n",
        "640376 ,\n",
        "422791 ,\n",
        "4712612 ,\n",
        "4712612 ,\n",
        "3123071 ,\n",
        "3123071 ,\n",
        "925756 ,\n",
        "1483191 ,\n",
        "983397 ,\n",
        "3123071 ,\n",
        "227592 ,\n",
        "231905 ,\n",
        "4435383 ,\n",
        "3123071 ,\n",
        "4712612 ,\n",
        "388541 ,\n",
        "4712612 ,\n",
        "227592 ,\n",
        "640376 ,\n",
        "983397 ,\n",
        "3123071 ,\n",
        "1498583 ,\n",
        "4712612 ,\n",
        "640376 ,\n",
        "64062 ,\n",
        "285548 ,\n",
        "422791 ,\n",
        "1483191 ,\n",
        "640376 ,\n",
        "925756 ,\n",
        "1483191 ,\n",
        "4435383 ,\n",
        "4712612 ,\n",
        "3117 ,\n",
        "1483191 ,\n",
        "4435383 ,\n",
        "4712612 ,\n",
        "3123071 ,\n",
        "3123071 ,\n",
        "3123071 ,\n",
        "983397 ,\n",
        "231905 ,\n",
        "422166 ,\n",
        "422166 ,\n",
        "3117085 ,\n",
        "4420040 ,\n",
        "422166 ,\n",
        "23845 ,\n",
        "4420040 ,\n",
        "274875 ,\n",
        "3117085 ,\n",
        "422166 ,\n",
        "4435383 ,\n",
        "1483191 ,\n",
        "231905 ,\n",
        "1483191 ,\n",
        "1483191 ,\n",
        "101309 ,\n",
        "231905 ,\n",
        "1483191 ,\n",
        "3123071 ,\n",
        "160572 ,\n",
        "1498583 ,\n",
        "5457 ,\n",
        "925756 ,\n",
        "4712612 ,\n",
        "1498583 ,\n",
        "4712612 ,\n",
        "231905 ,\n",
        "1718 ,\n",
        "422791 ,\n",
        "1483191 ,\n",
        "4435383 ,\n",
        "231905 ,\n",
        "925756 ,\n",
        "3123071 ,\n",
        "101704 ,\n",
        "4424152 ,\n",
        "638229 ,\n",
        "1479637 ,\n",
        "4700206 ,\n",
        "3114218 ,\n",
        "422321 ,\n",
        "4700206 ,\n",
        "422321 ,\n",
        "101309 ,\n",
        "422791 ,\n",
        "231905 ,\n",
        "3123071 ,\n",
        "3123071 ,\n",
        "925756 ,\n",
        "4712612 ,\n",
        "3123071 ,\n",
        "285548 ,\n",
        "3123071 ,\n",
        "4435383 ,\n",
        "1498583 ,\n",
        "4435383 ,\n",
        "4712612 ,\n",
        "23649 ,\n",
        "3123071 ,\n",
        "303910 ,\n",
        "1483191 ,\n",
        "422791 ,\n",
        "4712612 ,\n",
        "4712612 ,\n",
        "983397 ,\n",
        "925756 ,\n",
        "422791 ,\n",
        "1495887 ,\n",
        "1481130 ,\n",
        "23845 ,\n",
        "4703199 ,\n",
        "1481130 ,\n",
        "3117085 ,\n",
        "3117085 ,\n",
        "4420040 ,\n",
        "3146 ,\n",
        "422166 ,\n",
        "983397 ,\n",
        "4435383 ,\n",
        "3123071 ,\n",
        "4712612 ,\n",
        "640376 ,\n",
        "4712612 ,\n",
        "33375 ,\n",
        "3123071 ,\n",
        "6116 ,\n",
        "925756 ,\n",
        "1483191 ,\n",
        "4435383 ,\n",
        "101309 ,\n",
        "3123071 ,\n",
        "4712612 ,\n",
        "33375 ,\n",
        "1483191 ,\n",
        "762 ,\n",
        "227592 ,\n",
        "1498583 ,\n",
        "231905 ,\n",
        "101309 ,\n",
        "3123071 ,\n",
        "983397 ,\n",
        "33375 ,\n",
        "101309 ,\n",
        "101309 ,\n",
        "101309 ,\n",
        "422791 ,\n",
        "1483191 ,\n",
        "101309 ,\n",
        "227592 ,\n",
        "101309 ,\n",
        "4712612 ,\n",
        "1498583 ,\n",
        "640376 ,\n",
        "3123071 ,\n",
        "101309 ,\n",
        "227592 ,\n",
        "303910 ,\n",
        "101309 ,3123071 ,285548 ,4435383 ,925756 ,101309 ,101309 ,101309 ,101309 ,285548 ,983397 ,227592 ,101309 ,101309 ,101309 ,1483191 ,101309 ,101309 ,101309 ,64062 ,101309 ,227592 ,101309 ,101309 ,\n",
        "101309 ,101309 ,231905 ,101309 ,1498583 ,101309 ,640376 ,244169 ,101309 ,101309 ,227592 ,4435383 ,\n",
        "925756 ,101309 ,101309 ,101309 ,101309 ,303910 ,1483191 ,101309 ,101309 ,101309 ,101309 ,101309 ,101309 ,101309 ,101309 ,3123071 ]"
      ],
      "execution_count": null,
      "outputs": []
    },
    {
      "cell_type": "code",
      "metadata": {
        "id": "kzoXAsj0evQs",
        "outputId": "d75ac2d0-45f0-4e1f-f9c3-29e80fcec9b5",
        "colab": {
          "base_uri": "https://localhost:8080/",
          "height": 195
        }
      },
      "source": [
        "df3.head()"
      ],
      "execution_count": null,
      "outputs": [
        {
          "output_type": "execute_result",
          "data": {
            "text/html": [
              "<div>\n",
              "<style scoped>\n",
              "    .dataframe tbody tr th:only-of-type {\n",
              "        vertical-align: middle;\n",
              "    }\n",
              "\n",
              "    .dataframe tbody tr th {\n",
              "        vertical-align: top;\n",
              "    }\n",
              "\n",
              "    .dataframe thead th {\n",
              "        text-align: right;\n",
              "    }\n",
              "</style>\n",
              "<table border=\"1\" class=\"dataframe\">\n",
              "  <thead>\n",
              "    <tr style=\"text-align: right;\">\n",
              "      <th></th>\n",
              "      <th>State</th>\n",
              "      <th>Type</th>\n",
              "      <th>Population [2011]</th>\n",
              "      <th>Sex Ratio</th>\n",
              "      <th>Avg Temp</th>\n",
              "      <th>SWM</th>\n",
              "      <th>Toilets Avl</th>\n",
              "      <th>Water Purity</th>\n",
              "      <th>Female Population</th>\n",
              "      <th># of hospitals</th>\n",
              "      <th>Foreign Visitors</th>\n",
              "    </tr>\n",
              "  </thead>\n",
              "  <tbody>\n",
              "    <tr>\n",
              "      <th>0</th>\n",
              "      <td>31</td>\n",
              "      <td>0</td>\n",
              "      <td>36774.0</td>\n",
              "      <td>931.0</td>\n",
              "      <td>10.0</td>\n",
              "      <td>0</td>\n",
              "      <td>94.0</td>\n",
              "      <td>114.0</td>\n",
              "      <td>34237.0</td>\n",
              "      <td>17.0</td>\n",
              "      <td>2647</td>\n",
              "    </tr>\n",
              "    <tr>\n",
              "      <th>1</th>\n",
              "      <td>2</td>\n",
              "      <td>1</td>\n",
              "      <td>36754.0</td>\n",
              "      <td>934.0</td>\n",
              "      <td>38.0</td>\n",
              "      <td>1</td>\n",
              "      <td>62.0</td>\n",
              "      <td>160.0</td>\n",
              "      <td>34328.0</td>\n",
              "      <td>13.0</td>\n",
              "      <td>640376</td>\n",
              "    </tr>\n",
              "    <tr>\n",
              "      <th>2</th>\n",
              "      <td>13</td>\n",
              "      <td>2</td>\n",
              "      <td>36732.0</td>\n",
              "      <td>883.0</td>\n",
              "      <td>35.0</td>\n",
              "      <td>1</td>\n",
              "      <td>63.0</td>\n",
              "      <td>105.0</td>\n",
              "      <td>32434.0</td>\n",
              "      <td>17.0</td>\n",
              "      <td>231905</td>\n",
              "    </tr>\n",
              "    <tr>\n",
              "      <th>3</th>\n",
              "      <td>0</td>\n",
              "      <td>2</td>\n",
              "      <td>36706.0</td>\n",
              "      <td>887.0</td>\n",
              "      <td>31.0</td>\n",
              "      <td>1</td>\n",
              "      <td>60.0</td>\n",
              "      <td>174.0</td>\n",
              "      <td>32558.0</td>\n",
              "      <td>11.0</td>\n",
              "      <td>4435383</td>\n",
              "    </tr>\n",
              "    <tr>\n",
              "      <th>4</th>\n",
              "      <td>9</td>\n",
              "      <td>3</td>\n",
              "      <td>36669.0</td>\n",
              "      <td>877.0</td>\n",
              "      <td>39.0</td>\n",
              "      <td>2</td>\n",
              "      <td>92.0</td>\n",
              "      <td>153.0</td>\n",
              "      <td>32159.0</td>\n",
              "      <td>23.0</td>\n",
              "      <td>3123071</td>\n",
              "    </tr>\n",
              "  </tbody>\n",
              "</table>\n",
              "</div>"
            ],
            "text/plain": [
              "  State  Type  ...  # of hospitals  Foreign Visitors\n",
              "0    31     0  ...            17.0              2647\n",
              "1     2     1  ...            13.0            640376\n",
              "2    13     2  ...            17.0            231905\n",
              "3     0     2  ...            11.0           4435383\n",
              "4     9     3  ...            23.0           3123071\n",
              "\n",
              "[5 rows x 11 columns]"
            ]
          },
          "metadata": {
            "tags": []
          },
          "execution_count": 184
        }
      ]
    },
    {
      "cell_type": "code",
      "metadata": {
        "id": "J9sr9ucfeLsE",
        "outputId": "5f504bc0-4cd2-499d-ac67-0949ec1540bc",
        "colab": {
          "base_uri": "https://localhost:8080/",
          "height": 195
        }
      },
      "source": [
        "#normalise train dataset\n",
        "mm_scaler = preprocessing.MinMaxScaler()\n",
        "Train_minmax = mm_scaler.fit_transform(df3)\n",
        "X=pd.DataFrame(Train_minmax)\n",
        "X.head()"
      ],
      "execution_count": null,
      "outputs": [
        {
          "output_type": "execute_result",
          "data": {
            "text/html": [
              "<div>\n",
              "<style scoped>\n",
              "    .dataframe tbody tr th:only-of-type {\n",
              "        vertical-align: middle;\n",
              "    }\n",
              "\n",
              "    .dataframe tbody tr th {\n",
              "        vertical-align: top;\n",
              "    }\n",
              "\n",
              "    .dataframe thead th {\n",
              "        text-align: right;\n",
              "    }\n",
              "</style>\n",
              "<table border=\"1\" class=\"dataframe\">\n",
              "  <thead>\n",
              "    <tr style=\"text-align: right;\">\n",
              "      <th></th>\n",
              "      <th>0</th>\n",
              "      <th>1</th>\n",
              "      <th>2</th>\n",
              "      <th>3</th>\n",
              "      <th>4</th>\n",
              "      <th>5</th>\n",
              "      <th>6</th>\n",
              "      <th>7</th>\n",
              "      <th>8</th>\n",
              "      <th>9</th>\n",
              "      <th>10</th>\n",
              "    </tr>\n",
              "  </thead>\n",
              "  <tbody>\n",
              "    <tr>\n",
              "      <th>0</th>\n",
              "      <td>0.911765</td>\n",
              "      <td>0.0000</td>\n",
              "      <td>1.000000</td>\n",
              "      <td>0.723502</td>\n",
              "      <td>0.142857</td>\n",
              "      <td>0.0</td>\n",
              "      <td>0.933333</td>\n",
              "      <td>0.14</td>\n",
              "      <td>0.991315</td>\n",
              "      <td>0.518519</td>\n",
              "      <td>0.000400</td>\n",
              "    </tr>\n",
              "    <tr>\n",
              "      <th>1</th>\n",
              "      <td>0.058824</td>\n",
              "      <td>0.0625</td>\n",
              "      <td>0.999455</td>\n",
              "      <td>0.737327</td>\n",
              "      <td>0.942857</td>\n",
              "      <td>0.5</td>\n",
              "      <td>0.577778</td>\n",
              "      <td>0.60</td>\n",
              "      <td>0.993950</td>\n",
              "      <td>0.370370</td>\n",
              "      <td>0.135746</td>\n",
              "    </tr>\n",
              "    <tr>\n",
              "      <th>2</th>\n",
              "      <td>0.382353</td>\n",
              "      <td>0.1250</td>\n",
              "      <td>0.998854</td>\n",
              "      <td>0.502304</td>\n",
              "      <td>0.857143</td>\n",
              "      <td>0.5</td>\n",
              "      <td>0.588889</td>\n",
              "      <td>0.05</td>\n",
              "      <td>0.939110</td>\n",
              "      <td>0.518519</td>\n",
              "      <td>0.049056</td>\n",
              "    </tr>\n",
              "    <tr>\n",
              "      <th>3</th>\n",
              "      <td>0.000000</td>\n",
              "      <td>0.1250</td>\n",
              "      <td>0.998145</td>\n",
              "      <td>0.520737</td>\n",
              "      <td>0.742857</td>\n",
              "      <td>0.5</td>\n",
              "      <td>0.555556</td>\n",
              "      <td>0.74</td>\n",
              "      <td>0.942700</td>\n",
              "      <td>0.296296</td>\n",
              "      <td>0.941163</td>\n",
              "    </tr>\n",
              "    <tr>\n",
              "      <th>4</th>\n",
              "      <td>0.264706</td>\n",
              "      <td>0.1875</td>\n",
              "      <td>0.997136</td>\n",
              "      <td>0.474654</td>\n",
              "      <td>0.971429</td>\n",
              "      <td>1.0</td>\n",
              "      <td>0.911111</td>\n",
              "      <td>0.53</td>\n",
              "      <td>0.931147</td>\n",
              "      <td>0.740741</td>\n",
              "      <td>0.662650</td>\n",
              "    </tr>\n",
              "  </tbody>\n",
              "</table>\n",
              "</div>"
            ],
            "text/plain": [
              "         0       1         2         3   ...    7         8         9         10\n",
              "0  0.911765  0.0000  1.000000  0.723502  ...  0.14  0.991315  0.518519  0.000400\n",
              "1  0.058824  0.0625  0.999455  0.737327  ...  0.60  0.993950  0.370370  0.135746\n",
              "2  0.382353  0.1250  0.998854  0.502304  ...  0.05  0.939110  0.518519  0.049056\n",
              "3  0.000000  0.1250  0.998145  0.520737  ...  0.74  0.942700  0.296296  0.941163\n",
              "4  0.264706  0.1875  0.997136  0.474654  ...  0.53  0.931147  0.740741  0.662650\n",
              "\n",
              "[5 rows x 11 columns]"
            ]
          },
          "metadata": {
            "tags": []
          },
          "execution_count": 185
        }
      ]
    },
    {
      "cell_type": "code",
      "metadata": {
        "id": "I1mG_g6leO9C"
      },
      "source": [
        "y_hat = model_xgb.predict(X)"
      ],
      "execution_count": null,
      "outputs": []
    },
    {
      "cell_type": "code",
      "metadata": {
        "id": "cRcFv9ose42R"
      },
      "source": [
        "Cities[\"Covid Cases\"] = y_hat"
      ],
      "execution_count": null,
      "outputs": []
    },
    {
      "cell_type": "code",
      "metadata": {
        "id": "iRH_LKtoe_P7"
      },
      "source": [
        "Cities.to_csv(\"part2.csv\")"
      ],
      "execution_count": null,
      "outputs": []
    },
    {
      "cell_type": "code",
      "metadata": {
        "id": "-PEp3-_hfBID"
      },
      "source": [
        ""
      ],
      "execution_count": null,
      "outputs": []
    }
  ]
}